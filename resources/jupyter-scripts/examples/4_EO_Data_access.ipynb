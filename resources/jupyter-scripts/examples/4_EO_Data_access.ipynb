{
 "cells": [
  {
   "cell_type": "markdown",
   "metadata": {},
   "source": [
    "![intro_banner](./Images/22-4-2.5-Banner.png)"
   ]
  },
  {
   "cell_type": "markdown",
   "metadata": {},
   "source": [
    "---"
   ]
  },
  {
   "cell_type": "markdown",
   "metadata": {},
   "source": [
    "The aim of this notebook is to to describe ways to download products on the Jupyter Notebook environment, in order to use them afterwards using Python."
   ]
  },
  {
   "cell_type": "markdown",
   "metadata": {
    "tags": []
   },
   "source": [
    "# Download a product directly from the provider"
   ]
  },
  {
   "cell_type": "markdown",
   "metadata": {},
   "source": [
    "A product is directly accessible on the provider's website. Let's focus on a specific Sentinel 2 product that will be our example for the whole notebook."
   ]
  },
  {
   "cell_type": "markdown",
   "metadata": {},
   "source": [
    "For an optical image, the contrast between water and sand is intersting.We choose a product from the *Siwa Oasis* region in Egypt, which offers a strong contrast.  Since 2014, The ESA Sentinel-2 satellite offers optical imagery products that would fit our needs."
   ]
  },
  {
   "cell_type": "markdown",
   "metadata": {},
   "source": [
    "For Sentinel-2 imagery products are available on the website https://scihub.copernicus.eu/dhus/ . Simple tools allow to target a particular region and sensing date. Therefore, a Sentinel-2 product covering the Siwa region can be downloaded quickly."
   ]
  },
  {
   "cell_type": "markdown",
   "metadata": {},
   "source": [
    "![Sentinel2_Scihub](./Images/15-Siwa_Oasis_S2B_MSIL1C_20210713_T35RLN.PNG)"
   ]
  },
  {
   "cell_type": "markdown",
   "metadata": {},
   "source": [
    "Why downloading the product directly from the provider's website is not a solution of choice ?\n",
    "\n",
    "* it will be downloaded directly on the personal computer of the user. The user will need to upload the product on his Jupyter Notebook environment\n",
    "\n",
    "* Not convenient for making scripts that download many products automatically\n",
    "\n",
    "* Depends on the user's internet speed for download and upload\n",
    "\n",
    "* Does not allow to target a particular image inside the whole product"
   ]
  },
  {
   "cell_type": "markdown",
   "metadata": {},
   "source": [
    "# Download a product using a DIAS"
   ]
  },
  {
   "cell_type": "markdown",
   "metadata": {},
   "source": [
    "To avoid issues related to downloading and storing products, the European commission launched the Copernicus Data and Information Access Services (DIAS)\n",
    "\n",
    "A DIAS is a cloud-based platforms. It provides centralised access to Copernicus data and information, as well as to processing tools.\n",
    "\n",
    "5 DIAS exist, and all of them provide access to the data. "
   ]
  },
  {
   "cell_type": "markdown",
   "metadata": {},
   "source": [
    "![DIAS_offer.jpg](./Images/9-DIAS_Offer.jpg)"
   ]
  },
  {
   "cell_type": "markdown",
   "metadata": {},
   "source": [
    "*CREODIAS* is the DIAS selected for the EO Africa R&D project. The purpose of this section is to download the product `S2B_MSIL1C_20210713T084559_N0301_R107_T35RLN_20210713T095529` using CREODIAS. "
   ]
  },
  {
   "cell_type": "markdown",
   "metadata": {
    "tags": []
   },
   "source": [
    "## <a id='CREODIAS_search'></a> Search for datasets on CREODIAS"
   ]
  },
  {
   "cell_type": "markdown",
   "metadata": {},
   "source": [
    "### EODAG embedded tool "
   ]
  },
  {
   "cell_type": "markdown",
   "metadata": {},
   "source": [
    "This JupyterHub environment comes with an embedded plugin that generates code using the *EODAG* library. \n",
    "\n",
    "EODAG (Earth Observation Data Access Gateway) is a Python package for searching and downloading remotely sensed images while offering a unified API for data access regardless of the data provider."
   ]
  },
  {
   "cell_type": "markdown",
   "metadata": {},
   "source": [
    "![EODAG_Overview.jpg](./Images/10-EODAG_overview.png)"
   ]
  },
  {
   "cell_type": "code",
   "execution_count": null,
   "metadata": {},
   "outputs": [],
   "source": [
    "# Credentials path set in the below Bash environment\n",
    "import os\n",
    "os.environ[\"EODAG__CREODIAS_S3__DOWNLOAD__OUTPUTS_PREFIX\"] = os.path.relpath('./Products/downloads')"
   ]
  },
  {
   "cell_type": "markdown",
   "metadata": {},
   "source": [
    "The EODAG plugin allows to generate code related to the product.\n",
    "The EODAG plugin can be used as shown in the screenshot below.\n",
    "\n",
    "What are the characteristics of the product sought ? \n",
    "\n",
    "It is a Sentinel-2 tile that was sensed the 13/07/2021 , and covers the Siwa Oasis Area in Egypt.\n",
    "\n",
    "The area is selected by clicking the black square at the top right of the interface."
   ]
  },
  {
   "cell_type": "markdown",
   "metadata": {},
   "source": [
    "![EODAG_Plugin.jpg](./Images/12-Plugin_EODAG_S2_Siwa_Oasis.png)"
   ]
  },
  {
   "cell_type": "markdown",
   "metadata": {},
   "source": [
    "After clicking the search button, we obtain the following screen :"
   ]
  },
  {
   "cell_type": "markdown",
   "metadata": {},
   "source": [
    "![EODAG_Plugin_Search](./Images/14-Reseach_result_S2_Siwa_Oasis.png)"
   ]
  },
  {
   "cell_type": "markdown",
   "metadata": {},
   "source": [
    "Click the product banner then click apply on the top right of the interface that appears "
   ]
  },
  {
   "cell_type": "markdown",
   "metadata": {},
   "source": [
    "![EODAG_Plugin_search_Details](./Images/13-Reseach_result_S2_Siwa_Oasis_Details.png)"
   ]
  },
  {
   "cell_type": "markdown",
   "metadata": {},
   "source": [
    "Automatically, a code snippet is generated in a new cell of the notebook. The code cell in question is displayed below, along with a few comments"
   ]
  },
  {
   "cell_type": "code",
   "execution_count": null,
   "metadata": {
    "collapsed": false,
    "jupyter": {
     "outputs_hidden": false
    },
    "tags": [
     "Injected by EODAG plugin"
    ]
   },
   "outputs": [],
   "source": [
    "# The current code snippet was generated automatically by EODAG. Don't mind the red line that appears when executing the code cell, it is just a warning.\n",
    "\n",
    "from eodag import EODataAccessGateway, setup_logging\n",
    "\n",
    "setup_logging(1) # 0: nothing, 1: only progress bars, 2: INFO, 3: DEBUG\n",
    "\n",
    "dag = EODataAccessGateway()\n",
    "\n",
    "# The following line was added manually, it informs EODAG of the provider we want to use, CREODIAS in this case\n",
    "dag.set_preferred_provider(\"creodias_s3\")\n",
    "\n",
    "geometry = \"POLYGON ((25.224609 28.830238, 25.224609 29.430029, 25.933228 29.430029, 25.933228 28.830238, 25.224609 28.830238))\"\n",
    "search_results, total_count = dag.search(\n",
    "  productType=\"S2_MSI_L1C\",\n",
    "  geom=geometry,\n",
    "  start=\"2021-07-12\",\n",
    "  end=\"2021-07-14\",\n",
    "  cloudCover=100,\n",
    ")"
   ]
  },
  {
   "cell_type": "code",
   "execution_count": null,
   "metadata": {},
   "outputs": [],
   "source": [
    "# The rasterIO python library is used here to display the product (matplotlib is also popular)\n",
    "import rasterio\n",
    "import pprint\n",
    "\n",
    "# The  line below ourput indicates that two producst were found in the search, and that they have indeed been downloaded using the Creodias provider\n",
    "pprint.pprint(search_results)\n",
    "# The targeted product is the first product, the one that covers the Siwa oasis area. The product is stored in the variable \"product\" that will be used in Section 2\n",
    "product = search_results[0]"
   ]
  },
  {
   "cell_type": "markdown",
   "metadata": {
    "tags": []
   },
   "source": [
    "## Exploring the products"
   ]
  },
  {
   "cell_type": "markdown",
   "metadata": {
    "tags": []
   },
   "source": [
    "### Full product download "
   ]
  },
  {
   "cell_type": "markdown",
   "metadata": {
    "tags": []
   },
   "source": [
    "**If you want to display a particular band without downloading the whole product, please go to section B.**"
   ]
  },
  {
   "cell_type": "markdown",
   "metadata": {
    "tags": []
   },
   "source": [
    "####  Download the whole products"
   ]
  },
  {
   "cell_type": "markdown",
   "metadata": {},
   "source": [
    "The product of interest is now identified by EODAG. All that needs to be done now is to download the product. The EODAG function also unzips the file after it is downloaded."
   ]
  },
  {
   "cell_type": "code",
   "execution_count": null,
   "metadata": {},
   "outputs": [],
   "source": [
    "# The following line downloads the product\n",
    "product_path = product.download()"
   ]
  },
  {
   "cell_type": "markdown",
   "metadata": {
    "tags": []
   },
   "source": [
    "####  Open and display image within a a fully downloaded product"
   ]
  },
  {
   "cell_type": "code",
   "execution_count": null,
   "metadata": {
    "tags": []
   },
   "outputs": [],
   "source": [
    "import glob\n",
    "# We import the rasterIO library, that can read and display a Georeferenced image\n",
    "from rasterio.plot import show\n",
    "\n",
    "# Stores the product name, as it will be used in the next lines to construct the path to the image to show\n",
    "product_name = product.properties['title']\n",
    "\n",
    "# Looks for the Preview Image, stores the path. The preview image is quicker to load and display\n",
    "path = glob.glob('./Products/downloads/'+ product_name + '/*ql.jpg')[0]\n",
    "\n",
    "# Opens the image with rasterio, a python library\n",
    "img = rasterio.open(path)\n",
    "\n",
    "# Plots the preview image\n",
    "show(img)"
   ]
  },
  {
   "cell_type": "markdown",
   "metadata": {
    "tags": []
   },
   "source": [
    "###  Display a particular image without downloading the whole product"
   ]
  },
  {
   "cell_type": "markdown",
   "metadata": {},
   "source": [
    "EODag allows to \"stream\" a particular image contained in a targeted product, without actually downloading the whole file. \n",
    "Our product has already been identified by the search we conducted earlier : we know that the targeted product name is *S2B_MSIL1C_20210713T084559_N0301_R107_T35RLN_20210713T095529*"
   ]
  },
  {
   "cell_type": "code",
   "execution_count": null,
   "metadata": {},
   "outputs": [],
   "source": [
    "# This first cell isolates the product's name, needed in the following cell.\n",
    "import re\n",
    "product_name = product.properties['title'].replace('.SAFE','')\n",
    "\n",
    "search_results, _ = dag.search(id=product_name)"
   ]
  },
  {
   "cell_type": "markdown",
   "metadata": {},
   "source": [
    "Let's try and stream band 10 of this Sentinel-2 product. Band 10 (1375 nm) corresponds to a very strong absorption, the lake area should then have a small luminance. "
   ]
  },
  {
   "cell_type": "code",
   "execution_count": null,
   "metadata": {},
   "outputs": [],
   "source": [
    "import os\n",
    "from rasterio.crs import CRS\n",
    "\n",
    "get_data_args = dict(\n",
    "    crs=CRS.from_epsg(4326), \n",
    "    resolution=0.0006, \n",
    "    extent=search_results[0].geometry.bounds\n",
    ")\n",
    "# B10 stands for band 10, the 1380 nm SWIR band. The wavelength associated to band 10 hardly reflects water\n",
    "band_B10 = [b for b in search_results[0].assets if \"B10\" in b and b.split(\".\")[-1] == \"jp2\"][0]\n",
    "data = search_results[0].get_data(**{\"band\": band_B10, **get_data_args})\n",
    "\n",
    "data"
   ]
  },
  {
   "cell_type": "code",
   "execution_count": null,
   "metadata": {},
   "outputs": [],
   "source": [
    "#The following line plots Band 10 of the Sentinel-2 product\n",
    "from matplotlib import pyplot\n",
    "data.plot()"
   ]
  },
  {
   "cell_type": "markdown",
   "metadata": {},
   "source": [
    "As expected, water surfaces are poorly reflected : pixel values on the lake are close to 0"
   ]
  }
 ],
 "metadata": {
  "kernelspec": {
   "display_name": "Python 3 (ipykernel)",
   "language": "python",
   "name": "python3"
  },
  "language_info": {
   "codemirror_mode": {
    "name": "ipython",
    "version": 3
   },
   "file_extension": ".py",
   "mimetype": "text/x-python",
   "name": "python",
   "nbconvert_exporter": "python",
   "pygments_lexer": "ipython3",
   "version": "3.8.10"
  },
  "toc-autonumbering": true
 },
 "nbformat": 4,
 "nbformat_minor": 4
}
