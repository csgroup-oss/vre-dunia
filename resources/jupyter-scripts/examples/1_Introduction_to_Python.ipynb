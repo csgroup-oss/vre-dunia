{
 "cells": [
  {
   "cell_type": "markdown",
   "id": "339bab04-5c25-4646-9371-297d782724fa",
   "metadata": {},
   "source": [
    "![intro_banner](./Images/23-1-2.3-Banner.png)"
   ]
  },
  {
   "cell_type": "markdown",
   "id": "d41de136-5ba3-405f-9426-dad96f05a121",
   "metadata": {},
   "source": [
    "---"
   ]
  },
  {
   "cell_type": "markdown",
   "id": "2f07316b",
   "metadata": {},
   "source": [
    "This notebook will introduce the main Python libraries dedicated to scientific computing.\n",
    "\n",
    "Quoting the documentation from [Scipy](https://www.scipy.org/about.html) :\n",
    "\n",
    "SciPy refers to several related but distinct entities:\n",
    "* The SciPy ecosystem, a collection of open source software for scientific computing in Python.\n",
    "* The community of people who use and develop this stack.\n",
    "* Several conferences dedicated to scientific computing in Python - SciPy, EuroSciPy, and SciPy.in.\n",
    "* The [SciPy library](https://www.scipy.org/scipylib/index.html), one component of the SciPy stack, providing many numerical routines.\n",
    "\n",
    "Scientific computing in Python builds upon a small core of packages:\n",
    "* [Python](https://www.python.org/), a general purpose programming language. It is interpreted and dynamically typed and is very well suited for interactive work and quick prototyping, while being powerful enough to write large applications in.\n",
    "* [NumPy](http://www.numpy.org/), the fundamental package for numerical computation. It defines the numerical array and matrix types and basic operations on them.\n",
    "*The [SciPy library](https://www.scipy.org/scipylib/index.html), a collection of numerical algorithms and domain-specific toolboxes, including signal processing, optimization, statistics, and much more.\n",
    "* [Matplotlib](http://matplotlib.org/), a mature and popular plotting package that provides publication-quality 2-D plotting, as well as rudimentary 3-D plotting.\n"
   ]
  },
  {
   "cell_type": "markdown",
   "id": "378c7288",
   "metadata": {},
   "source": [
    "# Numpy\n",
    "\n",
    "Numpy is the core library for scientific computing in Python. It provides a high-performance multidimensional array object, and tools for working with these arrays.\n",
    "\n",
    "NumPy is often used along with packages like SciPy (Scientific Python) and Mat−plotlib (plotting library). This combination is widely used as a replacement for MatLab, a popular and costly platform for technical computing\n",
    "\n",
    "**Arrays**\n",
    "\n",
    "A numpy array is a grid of values, all of the same type. It is indexed by a tuple of non-negative integers. The number of dimensions is the rank of the array; the shape of an array is a tuple of integers giving the size of the array along each dimension. NumPy’s array class is called ndarray. \n",
    "\n",
    "We can initialize numpy arrays from nested Python lists, and access elements using square brackets:"
   ]
  },
  {
   "cell_type": "code",
   "execution_count": null,
   "id": "5be9b530",
   "metadata": {},
   "outputs": [],
   "source": [
    "import numpy as np  # np is a short name for numpy\n",
    "\n",
    "A = np.array([[1, 2, 3], [4, 5, 6]])  # Create a rank 2 array\n",
    "print(A.shape)  # Prints \"(2, 3)\"\n",
    "print(A[0, 0], A[0, 1], A[1, 0])  # Prints \"1 2 4\"\n",
    "\n",
    "print(\"Create a 2x2 array of all zeros\")\n",
    "A = np.zeros((2, 2))  # Create an array of all zeros\n",
    "print(A)\n",
    "\n",
    "print(\"Create a 4x2 array of all ones\")\n",
    "A = np.ones((4, 2))  # Create an array of all ones\n",
    "print(A)\n",
    "\n",
    "print(\"Create an array of constant values\")\n",
    "A = np.full((2, 2), 7)  # Create a constant array\n",
    "print(A)\n",
    "\n",
    "print(\"Create 2x2 identity matrix\")\n",
    "A = np.eye(2)  # Create a 2x2 identity matrix\n",
    "print(A)\n",
    "\n",
    "print(\"Create an array filled with random values\")\n",
    "A = np.random.random((2, 2))  # Create an array filled with random values\n",
    "print(A)"
   ]
  },
  {
   "cell_type": "code",
   "execution_count": null,
   "id": "64cb03d1",
   "metadata": {},
   "outputs": [],
   "source": [
    "A = np.array([1, 2, 3])  # Create a rank 1 array\n",
    "print(\"The object a is of type: \", type(A))\n",
    "print(\"It's shape is: \", A.shape)\n",
    "print(\"The array is: \", A)\n",
    "print(\"The first element of an array has index '0', e.g. A[0] \", A[0])\n",
    "print(\n",
    "    \"We can manually access all the elements of this array: \", A[0], A[1], A[2]\n",
    ")  # Prints \"1 2 3\"\n",
    "print(\n",
    "    \"The value of an element of an array can be edited by assigning a new value, like this A[0] = 5\"\n",
    ")\n",
    "A[0] = 5\n",
    "print(\"The final array is: \", A)"
   ]
  },
  {
   "cell_type": "markdown",
   "id": "e5ae77f3",
   "metadata": {},
   "source": [
    "Numpy offers several methods to generate arrays of different dimensions"
   ]
  },
  {
   "cell_type": "markdown",
   "id": "f56c7b13",
   "metadata": {},
   "source": [
    "**Array indexing**\n",
    "\n",
    "Numpy offers several ways to index arrays (i.e. to access elements of on array)\n",
    "\n",
    "Slicing: Similar to Python lists, numpy arrays can be sliced. Since arrays may be multidimensional, you must specify a slice for each dimension of the array:"
   ]
  },
  {
   "cell_type": "code",
   "execution_count": null,
   "id": "e8398dfe",
   "metadata": {},
   "outputs": [],
   "source": [
    "# Create the following rank 2 array with shape (3, 4)\n",
    "# [[ 1  2  3  4]\n",
    "#  [ 5  6  7  8]\n",
    "#  [ 9 10 11 12]]\n",
    "A = np.array([[1, 2, 3, 4], [5, 6, 7, 8], [9, 10, 11, 12]])\n",
    "print(\"First create a 3x4 array\\n\", A)\n",
    "# Use slicing to pull out the subarray consisting of the first 2 rows\n",
    "# and columns 1 and 2; b is the following array of shape (2, 2):\n",
    "# [[2 3]\n",
    "#  [6 7]]\n",
    "\n",
    "B = A[:2, 1:3]\n",
    "print(\"Now, let's slice this array into a 2x2 array\\n\", B)\n",
    "# A slice of an array is a view into the same data, so modifying it\n",
    "# will modify the original array.\n",
    "print(\n",
    "    \"Let's print the value for the first row / second column: \", A[0, 1]\n",
    ")  # Prints \"2\""
   ]
  },
  {
   "cell_type": "markdown",
   "id": "ec5c8719",
   "metadata": {},
   "source": [
    "Boolean array indexing"
   ]
  },
  {
   "cell_type": "code",
   "execution_count": null,
   "id": "0e4dfaa1",
   "metadata": {},
   "outputs": [],
   "source": [
    "a = np.array([[1, 2], [3, 4], [5, 6]])\n",
    "\n",
    "bool_idx = a > 2  # Find the elements of a that are bigger than 2;\n",
    "# this returns a numpy array of Booleans of the same\n",
    "# shape as a, where each slot of bool_idx tells\n",
    "# whether that element of a is > 2.\n",
    "\n",
    "print(bool_idx)  # Prints \"[[False False]\n",
    "#          [ True  True]\n",
    "#          [ True  True]]\"\n",
    "\n",
    "# We use boolean array indexing to construct a rank 1 array\n",
    "# consisting of the elements of a corresponding to the True values\n",
    "# of bool_idx\n",
    "print(a[bool_idx])  # Prints \"[3 4 5 6]\"\n",
    "\n",
    "# We can do all of the above in a single concise statement:\n",
    "print(a[a > 2])  # Prints \"[3 4 5 6]\""
   ]
  },
  {
   "cell_type": "markdown",
   "id": "e229b849",
   "metadata": {},
   "source": [
    "**Basic maths with numpy**"
   ]
  },
  {
   "cell_type": "code",
   "execution_count": null,
   "id": "3cb95c45",
   "metadata": {},
   "outputs": [],
   "source": [
    "A = np.array([1, 2, 3, 4])\n",
    "B = np.arange(4)\n",
    "C = A + B\n",
    "print(\"Print the sum of 2 arrays: \", C)\n",
    "print(\"We can compute the square of an array: \", A ** 2)"
   ]
  },
  {
   "cell_type": "markdown",
   "id": "6f037f27",
   "metadata": {},
   "source": [
    "Note that unlike in Matlab , \"*\" is elementwise multiplication, not matrix multiplication. \n",
    "\n",
    "We instead use the **dot** function to compute inner products of vectors, to multiply a vector by a matrix, and to multiply matrices. dot is available both as a function in the numpy module and as an instance method of array objects:"
   ]
  },
  {
   "cell_type": "code",
   "execution_count": null,
   "id": "3ccfeef2",
   "metadata": {},
   "outputs": [],
   "source": [
    "A = np.array([[1, 1], [0, 1]])\n",
    "B = np.array([[2, 0], [3, 4]])\n",
    "\n",
    "print(\"Matrix A\\n\", A)\n",
    "print(\"Matrix B\\n\", B)\n",
    "\n",
    "print(\"Elementwise product:\\n\", A * B)\n",
    "print(\"Matrix product:\\n\", A.dot(B))  # Matrix product\n",
    "print(\n",
    "    \"Matrix product can also be computed with the arobase symbol:\\n\", A @ B\n",
    ")  # another matrix product"
   ]
  },
  {
   "cell_type": "markdown",
   "id": "d732a16c",
   "metadata": {},
   "source": [
    "Numpy provides many useful functions for performing computations on arrays : basic arithmetics, trigonometrics, etc..."
   ]
  },
  {
   "cell_type": "code",
   "execution_count": null,
   "id": "97df513f",
   "metadata": {},
   "outputs": [],
   "source": [
    "A = np.array([[1, 2], [3, 4]])\n",
    "\n",
    "print(\"Matrix A\\n\", A)\n",
    "print(\"Sum of all elements:\", np.sum(A))  # Compute sum of all elements; prints \"10\"\n",
    "print(\n",
    "    \"Sum along columns\", np.sum(A, axis=0)\n",
    ")  # Compute sum of each column; prints \"[4 6]\"\n",
    "print(\"Sum along rows\", np.sum(A, axis=1))  # Compute sum of each row; prints \"[3 7]\"\n",
    "print(\"Cosine\\n\", np.cos(A))\n",
    "print(\"Maximum value is: \", np.max(A))\n",
    "print(\"Minimum value is: \", np.min(A))"
   ]
  },
  {
   "cell_type": "markdown",
   "id": "6fd4c020",
   "metadata": {},
   "source": [
    "# Matplotlib"
   ]
  },
  {
   "cell_type": "markdown",
   "id": "5b807ed2",
   "metadata": {},
   "source": [
    "[Matplotlib](https://matplotlib.org/) is a library for creating static, animated, and interactive visualizations in Python"
   ]
  },
  {
   "cell_type": "code",
   "execution_count": null,
   "id": "9d3f91e9",
   "metadata": {},
   "outputs": [],
   "source": [
    "from matplotlib import pyplot as plt\n",
    "\n",
    "# Compute the x and y coordinates for points on a sine curve\n",
    "x = np.arange(0, 3 * np.pi, 0.1)\n",
    "y = np.sin(x)\n",
    "\n",
    "# Plot the points using matplotlib\n",
    "plt.plot(x, y)\n",
    "plt.show()  # You must call plt.show() to make graphics appear."
   ]
  },
  {
   "cell_type": "code",
   "execution_count": null,
   "id": "39b686c4",
   "metadata": {},
   "outputs": [],
   "source": [
    "y_sin = np.sin(x)\n",
    "y_cos = np.cos(x)\n",
    "\n",
    "# Plot the points using matplotlib\n",
    "plt.plot(x, y_sin)\n",
    "plt.plot(x, y_cos)\n",
    "plt.xlabel('x axis label')\n",
    "plt.ylabel('y axis label')\n",
    "plt.title('Sine and Cosine')\n",
    "plt.legend(['Sine', 'Cosine'])\n",
    "plt.show()"
   ]
  },
  {
   "cell_type": "markdown",
   "id": "b62613e8",
   "metadata": {},
   "source": [
    "Display images with imshow()"
   ]
  },
  {
   "cell_type": "code",
   "execution_count": null,
   "id": "499d0f03",
   "metadata": {},
   "outputs": [],
   "source": [
    "img = plt.imread('./Images/24-MatplotLibLogo.jpeg') \n",
    "logo_plot = plt.imshow(img)\n",
    "# Let's hide the axis , as an image does not need axis to be added.\n",
    "logo_plot.axes.get_xaxis().set_visible(False) \n",
    "logo_plot.axes.get_yaxis().set_visible(False)"
   ]
  },
  {
   "cell_type": "markdown",
   "id": "f1c1f00f-9fc8-44e3-b3c4-8b9a739b3846",
   "metadata": {},
   "source": [
    "Let's draw a 3D graph of a sine on the rooted square of both axis : "
   ]
  },
  {
   "cell_type": "code",
   "execution_count": null,
   "id": "feb75bc6",
   "metadata": {},
   "outputs": [],
   "source": [
    "from matplotlib import cm\n",
    "from matplotlib.ticker import LinearLocator\n",
    "import numpy as np\n",
    "\n",
    "fig, ax = plt.subplots(subplot_kw={\"projection\": \"3d\"})\n",
    "\n",
    "# Make data.\n",
    "X = np.arange(-5, 5, 0.05)\n",
    "Y = np.arange(-5, 5, 0.05)\n",
    "X, Y = np.meshgrid(X, Y)\n",
    "R = np.sqrt(X**2 + Y**2)\n",
    "Z = 2 * np.sin(R)\n",
    "\n",
    "# Plot the surface.\n",
    "surf = ax.plot_surface(X, Y, Z, cmap=cm.coolwarm,\n",
    "                       linewidth=0, antialiased=False)\n",
    "\n",
    "# Customize the z axis.\n",
    "ax.set_zlim(-2.01, 2.01)\n",
    "ax.zaxis.set_major_locator(LinearLocator(5))\n",
    "# A StrMethodFormatter is used automatically\n",
    "ax.zaxis.set_major_formatter('{x:.01f}   ')\n",
    "\n",
    "# Add a color bar which maps values to colors.\n",
    "fig.colorbar(surf, shrink=0.4, aspect=5)\n",
    "\n",
    "plt.show()"
   ]
  },
  {
   "cell_type": "markdown",
   "id": "9264df67",
   "metadata": {},
   "source": [
    "# Scikit-image"
   ]
  },
  {
   "cell_type": "markdown",
   "id": "0e02c98c",
   "metadata": {},
   "source": [
    "[scikit-image](https://scikit-image.org/) is a collection of algorithms for image processing"
   ]
  },
  {
   "cell_type": "markdown",
   "id": "435dcd2d",
   "metadata": {},
   "source": [
    "## Image segmentation"
   ]
  },
  {
   "cell_type": "markdown",
   "id": "2b3b57cb",
   "metadata": {},
   "source": [
    "First, open an image and display it with rasterio"
   ]
  },
  {
   "cell_type": "code",
   "execution_count": null,
   "id": "dabcf0fa",
   "metadata": {},
   "outputs": [],
   "source": [
    "import rasterio\n",
    "from rasterio.plot import show\n",
    "from skimage.exposure import histogram\n",
    "from matplotlib import pyplot as plt\n",
    "import numpy as np\n",
    "src = rasterio.open(\"./Products/USA/Crop_colorado.jpg\");\n",
    "img = src.read()\n",
    "show(img);"
   ]
  },
  {
   "cell_type": "markdown",
   "id": "22c96c85",
   "metadata": {},
   "source": [
    "Boost image exposition to help isolate the most important circular crops with a segmentation algorithm"
   ]
  },
  {
   "cell_type": "code",
   "execution_count": null,
   "id": "8f6bfd1e",
   "metadata": {},
   "outputs": [],
   "source": [
    "from skimage import exposure\n",
    "scale = exposure.rescale_intensity(img, in_range=(130, 250))\n",
    "show(scale);"
   ]
  },
  {
   "cell_type": "markdown",
   "id": "06cc0b45",
   "metadata": {},
   "source": [
    "Use a segmentation algorithm to detect the edge of the circles"
   ]
  },
  {
   "cell_type": "code",
   "execution_count": null,
   "id": "3277b675",
   "metadata": {
    "tags": []
   },
   "outputs": [],
   "source": [
    "from skimage.filters import sobel\n",
    "elevation = sobel(scale)\n",
    "show(exposure.rescale_intensity(elevation[0], in_range=(.05, .4)));"
   ]
  },
  {
   "cell_type": "markdown",
   "id": "5f50dc8e",
   "metadata": {},
   "source": [
    "Finally, detect the objects (i.e. the crops properly irrigated)"
   ]
  },
  {
   "cell_type": "code",
   "execution_count": null,
   "id": "e4c41785",
   "metadata": {},
   "outputs": [],
   "source": [
    "from skimage.segmentation import watershed\n",
    "markers = np.zeros_like(scale)\n",
    "markers[img < 160] = 1\n",
    "markers[img > 200] = 2 # Define size of objects to detect\n",
    "segmentation = watershed(elevation, markers) # Segmentation algorithm\n",
    "plt.tight_layout() # Display\n",
    "show(segmentation[0]);"
   ]
  },
  {
   "cell_type": "markdown",
   "id": "6bd96407",
   "metadata": {},
   "source": [
    "## Image manipulation\n",
    "\n",
    "Scikit-image offers several tools for image manipulation, such as filters, morphology detection, histogram manipulation etc."
   ]
  },
  {
   "cell_type": "code",
   "execution_count": null,
   "id": "867136fd",
   "metadata": {},
   "outputs": [],
   "source": [
    "import numpy as np\n",
    "import matplotlib\n",
    "import matplotlib.pyplot as plt\n",
    "\n",
    "from skimage import data\n",
    "from skimage.util.dtype import dtype_range\n",
    "from skimage.util import img_as_ubyte\n",
    "from skimage import exposure\n",
    "from skimage.morphology import disk\n",
    "from skimage.morphology import ball\n",
    "from skimage.filters import rank\n",
    "\n",
    "# Load an example image\n",
    "img = src.read()[0]\n",
    "plt.imshow(img)\n",
    "plt.title(\"Original image\");"
   ]
  },
  {
   "cell_type": "markdown",
   "id": "da8d8cb3",
   "metadata": {},
   "source": [
    "The histogram manipulation tools may be useful to improve pattern detection. For example in the agricultural are of the previous cell"
   ]
  },
  {
   "cell_type": "code",
   "execution_count": null,
   "id": "830d420b",
   "metadata": {},
   "outputs": [],
   "source": [
    "# Global equalization of the histogram\n",
    "img_rescale = exposure.equalize_hist(img)\n",
    "plt.imshow(img_rescale)"
   ]
  },
  {
   "cell_type": "code",
   "execution_count": null,
   "id": "468be55d",
   "metadata": {},
   "outputs": [],
   "source": [
    "# Equalization\n",
    "selem = disk(25)\n",
    "img_eq = rank.equalize(img, selem)\n",
    "plt.imshow(img_eq)"
   ]
  },
  {
   "cell_type": "markdown",
   "id": "165d298e",
   "metadata": {},
   "source": [
    "To detect edges in a image, one can use [OpenCV](https://opencv.org) instead of scikit image.\n",
    "\n",
    "OpenCV is an open source, cross-platform library that includes hundreds of computer vision algorithm. It is much more complex than scikit image, but is mentioned here for reference."
   ]
  },
  {
   "cell_type": "code",
   "execution_count": null,
   "id": "cc711d38",
   "metadata": {},
   "outputs": [],
   "source": [
    "import cv2 as cv\n",
    "edges = cv.Canny(img_eq, 10, 500, 1)\n",
    "plt.imshow(edges, cmap=\"Greens\")"
   ]
  },
  {
   "cell_type": "markdown",
   "id": "4af64647",
   "metadata": {},
   "source": [
    "# Pandas"
   ]
  },
  {
   "cell_type": "markdown",
   "id": "5c709858",
   "metadata": {},
   "source": [
    "Pandas is a Python package providing fast and flexible data structures designed to make working with “relational” or “labeled” data both easy and intuitive. It aims to be the fundamental high-level building block for doing practical, real-world data analysis in Python. Additionally, it has the broader goal of becoming the most powerful and flexible open source data analysis/manipulation tool available in any language. It is already well on its way toward this goal.\n",
    "\n",
    "pandas is well suited for many different kinds of data:\n",
    "\n",
    "- Tabular data with heterogeneously-typed columns, as in an SQL table or Excel spreadsheet\n",
    "- Ordered and unordered (not necessarily fixed-frequency) time series data.\n",
    "- Arbitrary matrix data (homogeneously typed or heterogeneous) with row and column labels\n",
    "- Any other form of observational / statistical data sets. The data need not be labeled at all to be placed into a pandas data structure\n",
    "\n"
   ]
  },
  {
   "cell_type": "code",
   "execution_count": null,
   "id": "dca6cfc1",
   "metadata": {},
   "outputs": [],
   "source": [
    "import pandas as pd\n",
    "import numpy as np\n",
    "from matplotlib import pyplot as plt"
   ]
  },
  {
   "cell_type": "markdown",
   "id": "d0c430d4",
   "metadata": {},
   "source": [
    "## Object creation\n",
    "\n",
    "**Pandas Series** (similar to numpy arrays)\n",
    "\n",
    "Manual creation of a Series"
   ]
  },
  {
   "cell_type": "code",
   "execution_count": null,
   "id": "6defe550",
   "metadata": {},
   "outputs": [],
   "source": [
    "s = pd.Series([1, 3, 5, np.nan, 6, 8])\n",
    "s"
   ]
  },
  {
   "cell_type": "markdown",
   "id": "65ecbd47",
   "metadata": {},
   "source": [
    "Series of dates using the 'date_range' method"
   ]
  },
  {
   "cell_type": "code",
   "execution_count": null,
   "id": "6b9d17b9",
   "metadata": {
    "tags": []
   },
   "outputs": [],
   "source": [
    "dates = pd.date_range(\"20130101\", periods=6)\n",
    "dates"
   ]
  },
  {
   "cell_type": "markdown",
   "id": "1e7ff423",
   "metadata": {},
   "source": [
    "**DataFrames** (i.e. tabular data)\n",
    "\n",
    "Create a DataFrame with 6 rows and 4 columns. The index can be created with a Pandas Series (e.g. the dates Series created in the cell just above)"
   ]
  },
  {
   "cell_type": "code",
   "execution_count": null,
   "id": "17407a32",
   "metadata": {},
   "outputs": [],
   "source": [
    "df = pd.DataFrame(np.random.randn(6, 4), index=dates, columns=list(\"ABCD\"))\n",
    "df"
   ]
  },
  {
   "cell_type": "markdown",
   "id": "bf78d1ad",
   "metadata": {},
   "source": [
    "To check the type of each column"
   ]
  },
  {
   "cell_type": "code",
   "execution_count": null,
   "id": "1dd59a35",
   "metadata": {},
   "outputs": [],
   "source": [
    "df.dtypes"
   ]
  },
  {
   "cell_type": "markdown",
   "id": "67cbfce6",
   "metadata": {},
   "source": [
    "Display only first 3 rows\n"
   ]
  },
  {
   "cell_type": "code",
   "execution_count": null,
   "id": "373260c4",
   "metadata": {
    "tags": []
   },
   "outputs": [],
   "source": [
    "df.head(3)"
   ]
  },
  {
   "cell_type": "markdown",
   "id": "5be55ca1",
   "metadata": {},
   "source": [
    "Display last 2 rows only"
   ]
  },
  {
   "cell_type": "code",
   "execution_count": null,
   "id": "080d0dbd",
   "metadata": {},
   "outputs": [],
   "source": [
    "df.tail(2)"
   ]
  },
  {
   "cell_type": "markdown",
   "id": "505836ab",
   "metadata": {},
   "source": [
    "Note that head and tail can be used to create new DataFrames (i.e. not only for display purposes)"
   ]
  },
  {
   "cell_type": "code",
   "execution_count": null,
   "id": "a074d47f",
   "metadata": {},
   "outputs": [],
   "source": [
    "new_df = df.head(3)\n",
    "new_df"
   ]
  },
  {
   "cell_type": "markdown",
   "id": "9d467a88",
   "metadata": {},
   "source": [
    "To create a new column : "
   ]
  },
  {
   "cell_type": "code",
   "execution_count": null,
   "id": "8732ccdb",
   "metadata": {},
   "outputs": [],
   "source": [
    "df[\"E\"] = [1, 2, 3, 4, 5, 6]\n",
    "df"
   ]
  },
  {
   "cell_type": "markdown",
   "id": "f62251de",
   "metadata": {},
   "source": [
    "## Selection"
   ]
  },
  {
   "cell_type": "markdown",
   "id": "42ec1637",
   "metadata": {},
   "source": [
    "Select a single column\n"
   ]
  },
  {
   "cell_type": "code",
   "execution_count": null,
   "id": "0d5d49c3",
   "metadata": {},
   "outputs": [],
   "source": [
    "df[\"A\"]"
   ]
  },
  {
   "cell_type": "markdown",
   "id": "799f2a33",
   "metadata": {},
   "source": [
    "Select by slicing\n",
    "\n",
    "As with numpy or basic lists, data within a DataFrame can be selected by slicing:"
   ]
  },
  {
   "cell_type": "code",
   "execution_count": null,
   "id": "7fcc56b9",
   "metadata": {},
   "outputs": [],
   "source": [
    "df[0:3]"
   ]
  },
  {
   "cell_type": "markdown",
   "id": "0ec8a211",
   "metadata": {},
   "source": [
    "Select by label\n"
   ]
  },
  {
   "cell_type": "code",
   "execution_count": null,
   "id": "52ce3e84",
   "metadata": {},
   "outputs": [],
   "source": [
    "df.loc[dates[0]]"
   ]
  },
  {
   "cell_type": "code",
   "execution_count": null,
   "id": "0f274986",
   "metadata": {},
   "outputs": [],
   "source": [
    "df.loc[dates[1:3], \"A\"]"
   ]
  },
  {
   "cell_type": "markdown",
   "id": "525a047e",
   "metadata": {},
   "source": [
    "Boolean indexing\n",
    "\n",
    "DataFrames can be indexed with conditions, e.g.: "
   ]
  },
  {
   "cell_type": "code",
   "execution_count": null,
   "id": "434fd2cb",
   "metadata": {},
   "outputs": [],
   "source": [
    "df[df[\"A\"] > 0]"
   ]
  },
  {
   "cell_type": "markdown",
   "id": "e13d4ccc",
   "metadata": {},
   "source": [
    "Selecting values from a DataFrame where a boolean condition is met."
   ]
  },
  {
   "cell_type": "code",
   "execution_count": null,
   "id": "c91a08fe",
   "metadata": {},
   "outputs": [],
   "source": [
    "df[df > 0]"
   ]
  },
  {
   "cell_type": "markdown",
   "id": "40eb9b0e",
   "metadata": {},
   "source": [
    "## Basic operations\n",
    "\n",
    "Pandas offers many useful functions to simplify data analysis on DataFrames (or Series)"
   ]
  },
  {
   "cell_type": "markdown",
   "id": "6e98e485",
   "metadata": {},
   "source": [
    "Compute the mean of all columns"
   ]
  },
  {
   "cell_type": "code",
   "execution_count": null,
   "id": "ceae3dba",
   "metadata": {},
   "outputs": [],
   "source": [
    "df.mean()"
   ]
  },
  {
   "cell_type": "markdown",
   "id": "f6642a4b",
   "metadata": {},
   "source": [
    "Sum columns"
   ]
  },
  {
   "cell_type": "code",
   "execution_count": null,
   "id": "b876d968",
   "metadata": {},
   "outputs": [],
   "source": [
    "df.sum(0, skipna=False)"
   ]
  },
  {
   "cell_type": "markdown",
   "id": "3961199e",
   "metadata": {},
   "source": [
    "Sum rows (note the first argument is 1 instead of 0)"
   ]
  },
  {
   "cell_type": "code",
   "execution_count": null,
   "id": "b1508959",
   "metadata": {},
   "outputs": [],
   "source": [
    "df.sum(1, skipna=False)"
   ]
  },
  {
   "cell_type": "markdown",
   "id": "aeb8350e",
   "metadata": {},
   "source": [
    "Minimum value of each column"
   ]
  },
  {
   "cell_type": "code",
   "execution_count": null,
   "id": "b4e1faac",
   "metadata": {},
   "outputs": [],
   "source": [
    "df.min()"
   ]
  },
  {
   "cell_type": "markdown",
   "id": "5aa4739c",
   "metadata": {},
   "source": [
    "Get maximum value of a single column"
   ]
  },
  {
   "cell_type": "code",
   "execution_count": null,
   "id": "1cd6ea50",
   "metadata": {},
   "outputs": [],
   "source": [
    "print(df[\"A\"].max())\n",
    "print(df.A.max())"
   ]
  },
  {
   "cell_type": "markdown",
   "id": "9e5c5acc",
   "metadata": {},
   "source": [
    "Display general statistics on DataFrame"
   ]
  },
  {
   "cell_type": "code",
   "execution_count": null,
   "id": "6ee2ee99",
   "metadata": {},
   "outputs": [],
   "source": [
    "df.describe()"
   ]
  },
  {
   "cell_type": "markdown",
   "id": "da9e0450",
   "metadata": {},
   "source": [
    "It is also possible to use used-defined functions\n",
    "\n",
    "In the example below, we will multiply the last column (\"E\") by 3"
   ]
  },
  {
   "cell_type": "code",
   "execution_count": null,
   "id": "5d9991bd",
   "metadata": {},
   "outputs": [],
   "source": [
    "df[\"E\"].apply(lambda x: 3 * x)"
   ]
  },
  {
   "cell_type": "markdown",
   "id": "0c32113d",
   "metadata": {},
   "source": [
    "Aggregation functions are similar to SQL queries"
   ]
  },
  {
   "cell_type": "code",
   "execution_count": null,
   "id": "dcbb4d49",
   "metadata": {},
   "outputs": [],
   "source": [
    "df.agg([\"sum\"])"
   ]
  },
  {
   "cell_type": "markdown",
   "id": "97c571bd",
   "metadata": {},
   "source": [
    "Compute sum and mean for each column"
   ]
  },
  {
   "cell_type": "code",
   "execution_count": null,
   "id": "76a2b8d4",
   "metadata": {},
   "outputs": [],
   "source": [
    "df.agg([\"sum\", \"mean\"])"
   ]
  },
  {
   "cell_type": "markdown",
   "id": "a8275659",
   "metadata": {},
   "source": [
    "Fetch the names of all columns"
   ]
  },
  {
   "cell_type": "code",
   "execution_count": null,
   "id": "bcf241ab",
   "metadata": {},
   "outputs": [],
   "source": [
    "df.columns"
   ]
  },
  {
   "cell_type": "markdown",
   "id": "bdf51fd2",
   "metadata": {},
   "source": [
    "Pandas is based on matplotlib to plot graphs"
   ]
  },
  {
   "cell_type": "code",
   "execution_count": null,
   "id": "b4056c44",
   "metadata": {},
   "outputs": [],
   "source": [
    "plt.figure()\n",
    "df.plot()"
   ]
  },
  {
   "cell_type": "markdown",
   "id": "7e859acb",
   "metadata": {},
   "source": [
    "# SciPy\n"
   ]
  },
  {
   "cell_type": "markdown",
   "id": "6b346fcf",
   "metadata": {},
   "source": [
    "SciPy (pronounced “Sigh Pie”) is a Python-based ecosystem of open-source software for mathematics, science, and engineering\n",
    "\n",
    "From its [documentation](https://docs.scipy.org/doc/scipy/reference/tutorial/general.html) : SciPy is a collection of mathematical algorithms and convenience functions built on the NumPy extension of Python. It adds significant power to the interactive Python session by providing the user with high-level commands and classes for manipulating and visualizing data. With SciPy, an interactive Python session becomes a data-processing and system-prototyping environment rivaling systems, such as MATLAB, IDL, Octave, R-Lab, and SciLab.\n",
    "\n",
    "**Note** : SciPy is a an extensive and complex library, only some basic examples will be shown here. Please refer to the [documentation](https://docs.scipy.org/doc/scipy/reference/tutorial/general.html) for more"
   ]
  },
  {
   "cell_type": "markdown",
   "id": "468ba2ec",
   "metadata": {},
   "source": [
    "## Interpolation"
   ]
  },
  {
   "cell_type": "code",
   "execution_count": null,
   "id": "41edb668",
   "metadata": {},
   "outputs": [],
   "source": [
    "from scipy.interpolate import interp1d\n",
    "from matplotlib import pyplot as plt\n",
    "import numpy as np"
   ]
  },
  {
   "cell_type": "markdown",
   "id": "d28fabd7",
   "metadata": {},
   "source": [
    "**Linear interpolation**"
   ]
  },
  {
   "cell_type": "code",
   "execution_count": null,
   "id": "ab89ab4d",
   "metadata": {},
   "outputs": [],
   "source": [
    "x = np.linspace(0, 10, num=11, endpoint=True)\n",
    "y = np.cos(-x**2/9.0)\n",
    "f = interp1d(x, y)\n",
    "f2 = interp1d(x, y, kind='cubic')\n",
    "xnew = np.linspace(0, 10, num=41, endpoint=True)\n",
    "\n",
    "plt.plot(x, y, 'o', xnew, f(xnew), '-', xnew, f2(xnew), '--')\n",
    "plt.legend(['data', 'linear', 'cubic'], loc='best')\n",
    "plt.show()"
   ]
  },
  {
   "cell_type": "markdown",
   "id": "1ea609b0",
   "metadata": {},
   "source": [
    "**Spline interpolation**"
   ]
  },
  {
   "cell_type": "code",
   "execution_count": null,
   "id": "0145da7a",
   "metadata": {},
   "outputs": [],
   "source": [
    "from scipy import interpolate\n",
    "x = np.arange(0, 2*np.pi+np.pi/4, 2*np.pi/8)\n",
    "y = np.sin(x)\n",
    "\n",
    "tck = interpolate.splrep(x, y, s=0)\n",
    "xnew = np.arange(0, 2*np.pi, np.pi/50)\n",
    "ynew = interpolate.splev(xnew, tck, der=0)"
   ]
  },
  {
   "cell_type": "code",
   "execution_count": null,
   "id": "f6e9a0bd",
   "metadata": {},
   "outputs": [],
   "source": [
    "plt.figure()\n",
    "plt.plot(x, y, 'x', xnew, ynew, xnew, np.sin(xnew), x, y, 'b')\n",
    "plt.legend(['Linear', 'Cubic Spline', 'True'])\n",
    "plt.axis([-0.05, 6.33, -1.05, 1.05])\n",
    "plt.title('Cubic-spline interpolation')\n",
    "plt.show()"
   ]
  },
  {
   "cell_type": "markdown",
   "id": "b7455f7a",
   "metadata": {},
   "source": [
    "## Analysis of linear systems"
   ]
  },
  {
   "cell_type": "markdown",
   "id": "2105ff8f",
   "metadata": {},
   "source": [
    "Scipy offers tools to solve linear systems\n",
    "\n",
    "\n",
    "$$\n",
    "\\begin{array}{c}\n",
    "3x + 2y = 12 \\\\\n",
    "2x - y = 1\n",
    "\\end{array}\n",
    "$$\n"
   ]
  },
  {
   "cell_type": "code",
   "execution_count": null,
   "id": "96e2547a",
   "metadata": {},
   "outputs": [],
   "source": [
    "from scipy.linalg import solve\n",
    "\n",
    "a = np.array([\n",
    "    [3, 2],\n",
    "    [2, -1]\n",
    "])\n",
    "b = np.array([12, 1]).reshape((2, 1))\n",
    "x = solve(a, b)\n",
    "\n",
    "print(\"The solution of the system is : x = {0} and y = {1}\".format(x[0], x[1]))"
   ]
  },
  {
   "cell_type": "markdown",
   "id": "a87550d9",
   "metadata": {},
   "source": [
    "Scipy can be helpful to perform matrix operations\n",
    "\n",
    "Example : finding the determinant of\n",
    "\n",
    "$$\n",
    "\t\\begin{bmatrix} \n",
    "\t1 & 2 \\\\\n",
    "\t3 & 4 \\\\\n",
    "\t\\end{bmatrix}\n",
    "\t\\quad\n",
    "$$\n"
   ]
  },
  {
   "cell_type": "code",
   "execution_count": null,
   "id": "94951c78",
   "metadata": {},
   "outputs": [],
   "source": [
    "from scipy import linalg\n",
    "A = np.array([[1,2],[3,4]])\n",
    "x = linalg.det(A)\n",
    "print(\"The determinant is: \", x)"
   ]
  },
  {
   "cell_type": "markdown",
   "id": "87a8ca7a",
   "metadata": {},
   "source": [
    "Computing norms"
   ]
  },
  {
   "cell_type": "code",
   "execution_count": null,
   "id": "bd7e720a",
   "metadata": {},
   "outputs": [],
   "source": [
    "import numpy as np\n",
    "from scipy import linalg\n",
    "\n",
    "A = np.array([[1,2],[3,4]])\n",
    "\n",
    "linalg.norm(A)"
   ]
  },
  {
   "cell_type": "markdown",
   "id": "eed8f156",
   "metadata": {},
   "source": [
    "# Rasterio"
   ]
  },
  {
   "cell_type": "markdown",
   "id": "c383c2d4",
   "metadata": {},
   "source": [
    "Geographic information systems use GeoTIFF and other formats to organize and store gridded raster datasets such as satellite imagery and terrain models. [**Rasterio**](https://rasterio.readthedocs.io/en/latest/) reads and writes these formats and provides a Python API based on Numpy N-dimensional arrays and GeoJSON\n"
   ]
  },
  {
   "cell_type": "code",
   "execution_count": null,
   "id": "371ad3e7",
   "metadata": {},
   "outputs": [],
   "source": [
    "import rasterio\n",
    "from matplotlib import pyplot as plt\n",
    "from rasterio.plot import show\n",
    "src = rasterio.open('./Products/Cameroon/Lake_Lagdo_crop.tif')"
   ]
  },
  {
   "cell_type": "code",
   "execution_count": null,
   "id": "ee9df39a",
   "metadata": {},
   "outputs": [],
   "source": [
    "show(src.read())"
   ]
  },
  {
   "cell_type": "markdown",
   "id": "4ce7319b",
   "metadata": {},
   "source": [
    "Get informations about the product"
   ]
  },
  {
   "cell_type": "code",
   "execution_count": null,
   "id": "420f7750",
   "metadata": {
    "tags": []
   },
   "outputs": [],
   "source": [
    "print(\"Width: \", src.width)\n",
    "print(\"Height: \", src.height)\n",
    "print(\"File name: \", src.files)\n",
    "print(\"Is the system a projected one ?\", src.crs.is_projected)\n",
    "print(\"Projection system used: \", src.crs) # https://spatialreference.org/ref/epsg/32633/"
   ]
  },
  {
   "cell_type": "markdown",
   "id": "455700cf",
   "metadata": {},
   "source": [
    "To get the spatial coordinates of a pixel, use the dataset’s *xy()* method. The coordinates of the center of the image can be computed like this."
   ]
  },
  {
   "cell_type": "code",
   "execution_count": null,
   "id": "ac9edd2e",
   "metadata": {},
   "outputs": [],
   "source": [
    "print(\"Central coordinates: \", src.xy(src.height // 2, src.width // 2))\n",
    "print(\"Coordinates of the bounding box\", src.bounds)"
   ]
  },
  {
   "cell_type": "markdown",
   "id": "932f83a6",
   "metadata": {},
   "source": [
    "Since the product is a geotiff, it is possible to fetch geospatial information"
   ]
  },
  {
   "cell_type": "code",
   "execution_count": null,
   "id": "457ec57c",
   "metadata": {},
   "outputs": [],
   "source": [
    "print(\"The product central longitude and latitude are: lon = {0}, lat = {1}\".format(src.lnglat()[0], src.lnglat()[1]))"
   ]
  },
  {
   "cell_type": "markdown",
   "id": "16e7ba06",
   "metadata": {},
   "source": [
    "However, collecting longitude and latitude for other parts of the products is more complicated, since every points of the image need to be converted.\n",
    "\n",
    "Rasterio can map the pixels of a destination raster with an associated coordinate reference system and transform to the pixels of a source image with a different coordinate reference system and transform. This process is known as reprojection.\n",
    "\n",
    "Hopefully, rasterio provides several utilities to make this processing easier. In the cells below we will : \n",
    "\n",
    "* Open a product with rastertio, get all the information about it's projection system\n",
    "* User rasterio's utilities to reproject the GeoTIFF\n",
    "* Write the GeoTIFF on the disk, in a new coordinate reference system\n",
    "* Display the result"
   ]
  },
  {
   "cell_type": "code",
   "execution_count": null,
   "id": "7fa40c33",
   "metadata": {},
   "outputs": [],
   "source": [
    "from rasterio.warp import calculate_default_transform, reproject, Resampling\n",
    "\n",
    "dst_crs = \"EPSG:4326\"  # WGS 84 -- WGS84 - World Geodetic System 1984, used in GPS\n",
    "\n",
    "# Open source image and get its parameters\n",
    "with rasterio.open(\"./Products/Cameroon/Lake_Lagdo_crop.tif\") as src:\n",
    "    transform, width, height = calculate_default_transform(\n",
    "        src.crs, dst_crs, src.width, src.height, *src.bounds\n",
    "    )\n",
    "    kwargs = src.meta.copy()\n",
    "    kwargs.update(\n",
    "        {\"crs\": dst_crs, \"transform\": transform, \"width\": width, \"height\": height}\n",
    "    )\n",
    "    # Write output image after reprojection\n",
    "    with rasterio.open(\n",
    "        \"./Products/Cameroon/Lake_Lagdo_crop.wgs84.tif\",\n",
    "        \"w\",\n",
    "        **kwargs\n",
    "    ) as dst:\n",
    "        for i in range(1, src.count + 1): # Loop over all bands\n",
    "            reproject(\n",
    "                source=rasterio.band(src, i),\n",
    "                destination=rasterio.band(dst, i),\n",
    "                src_transform=src.transform,\n",
    "                src_crs=src.crs,\n",
    "                dst_transform=transform,\n",
    "                dst_crs=dst_crs,\n",
    "                resampling=Resampling.nearest,\n",
    "            )"
   ]
  },
  {
   "cell_type": "markdown",
   "id": "ecb02882",
   "metadata": {},
   "source": [
    "Let's open this GeoTIFF with rasterio"
   ]
  },
  {
   "cell_type": "code",
   "execution_count": null,
   "id": "be68457c",
   "metadata": {},
   "outputs": [],
   "source": [
    "src = rasterio.open(\"./Products/Cameroon/Lake_Lagdo_crop.wgs84.tif\") # Open file\n",
    "img = src.read() # Read file as a numpy array"
   ]
  },
  {
   "cell_type": "markdown",
   "id": "b351916d",
   "metadata": {},
   "source": [
    "Fetch the coordinates, to later display the image as a new layer on a map"
   ]
  },
  {
   "cell_type": "code",
   "execution_count": null,
   "id": "00d425e7",
   "metadata": {
    "tags": []
   },
   "outputs": [],
   "source": [
    "x1, y1, x2, y2 = src.bounds  # Get coordinates of image bounds\n",
    "print(\"Coordinates of the bounding box in the EPS:4326 reference system\\n\")\n",
    "print(\"Bottom left: \", (x1, y1))\n",
    "print(\"Top right: \", (x2, y2))"
   ]
  },
  {
   "cell_type": "code",
   "execution_count": null,
   "id": "04d5c526",
   "metadata": {},
   "outputs": [],
   "source": [
    "import folium\n",
    "lon, lat = src.lnglat()  # Get longitude and latitude\n",
    "m = folium.Map(location=[lat, lon], zoom_start=12)\n",
    "\n",
    "folium.raster_layers.ImageOverlay(\n",
    "    image=img[0], bounds=[[y1, x1], [y2, x2]], opacity=0.7\n",
    ").add_to(m)\n",
    "\n",
    "m"
   ]
  },
  {
   "cell_type": "markdown",
   "id": "1e748fd5",
   "metadata": {},
   "source": [
    "*Notice the water level difference between both images*"
   ]
  },
  {
   "cell_type": "markdown",
   "id": "9dab7b8f",
   "metadata": {},
   "source": [
    "Rasterio also provides a show_hist() function for generating histograms of single or multiband rasters:"
   ]
  },
  {
   "cell_type": "code",
   "execution_count": null,
   "id": "4b6816c0",
   "metadata": {},
   "outputs": [],
   "source": [
    "from rasterio.plot import show_hist\n",
    "show_hist(src, bins=50, lw=0.0, stacked=False, alpha=0.3, histtype='stepfilled', title=\"Histogram\")"
   ]
  },
  {
   "cell_type": "markdown",
   "id": "8a172f7a",
   "metadata": {},
   "source": [
    "# Numba\n",
    "\n",
    "[**Numba**](http://numba.pydata.org/) is an open source [JIT compiler](https://www.ibm.com/docs/en/ztpf/1.1.0.15?topic=reference-jit-compiler) that translates a subset of Python and NumPy code into fast machine code. Numba-compiled numerical algorithm in Python can approach the speeds of C or Fortran.\n",
    "\n",
    "No need to replace the Python interpreter, run a separate compilation step, or even have a C/C++ compiler installed. Just apply one of the Numba decorators to your Python function, and Numba does the rest. \n",
    "\n",
    "Numba's performance depends on what your code looks like, if your code is numerically orientated (does a lot of math), uses NumPy a lot and/or has a lot of loops, then Numba is often a good choice."
   ]
  },
  {
   "cell_type": "code",
   "execution_count": null,
   "id": "66c3dc2f",
   "metadata": {},
   "outputs": [],
   "source": [
    "from numba import njit\n",
    "import math\n",
    "import numpy as np\n",
    "\n",
    "def std(xs):\n",
    "    \"\"\"\n",
    "    This function takes a list of numbers, and returns the standard deviation of these numbers. \n",
    "    \"\"\"\n",
    "    mean = 0\n",
    "    for x in xs: \n",
    "        mean = mean + x\n",
    "    mean = mean / len(xs)\n",
    "    # compute the variance\n",
    "    ms = 0\n",
    "    for x in xs:\n",
    "        ms += (x-mean)**2\n",
    "    variance = ms / len(xs)\n",
    "    std = math.sqrt(variance)\n",
    "    return std\n",
    "\n",
    "@njit\n",
    "def jit_std(xs):\n",
    "    \"\"\"\n",
    "    This function takes a list of numbers, and returns the standard deviation of these numbers. \n",
    "    It is the exact same method as above but will use Numba to spee-up computations\n",
    "    \"\"\"\n",
    "    mean = 0\n",
    "    for x in xs: \n",
    "        mean = mean + x\n",
    "    mean = mean / len(xs)\n",
    "    # compute the variance\n",
    "    ms = 0\n",
    "    for x in xs:\n",
    "        ms = ms + ((x-mean)**2)\n",
    "    variance = ms / len(xs)\n",
    "    std = math.sqrt(variance)\n",
    "    return std"
   ]
  },
  {
   "cell_type": "markdown",
   "id": "717a7b0f",
   "metadata": {},
   "source": [
    "Let's execute the same computation without Numba, then with Numba and compare the computation time\n",
    "\n",
    "Without Numba: "
   ]
  },
  {
   "cell_type": "code",
   "execution_count": null,
   "id": "6d21c002",
   "metadata": {},
   "outputs": [],
   "source": [
    "%%time\n",
    "a = np.random.normal(0, 1, int(1e6))\n",
    "std(a)"
   ]
  },
  {
   "cell_type": "markdown",
   "id": "3c8bbc1d",
   "metadata": {},
   "source": [
    "With Numba, the computation is much faster !"
   ]
  },
  {
   "cell_type": "code",
   "execution_count": null,
   "id": "9a848c89",
   "metadata": {},
   "outputs": [],
   "source": [
    "%%time\n",
    "jit_std(a)"
   ]
  }
 ],
 "metadata": {
  "kernelspec": {
   "display_name": "Python 3 (ipykernel)",
   "language": "python",
   "name": "python3"
  },
  "language_info": {
   "codemirror_mode": {
    "name": "ipython",
    "version": 3
   },
   "file_extension": ".py",
   "mimetype": "text/x-python",
   "name": "python",
   "nbconvert_exporter": "python",
   "pygments_lexer": "ipython3",
   "version": "3.8.10"
  },
  "toc-autonumbering": true,
  "toc-showcode": false
 },
 "nbformat": 4,
 "nbformat_minor": 5
}
