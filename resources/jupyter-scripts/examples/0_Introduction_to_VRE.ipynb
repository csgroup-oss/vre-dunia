{
 "cells": [
  {
   "cell_type": "markdown",
   "id": "1dee1244",
   "metadata": {},
   "source": [
    "![intro_banner](./Images/19-2.5-Banner-1.png)"
   ]
  },
  {
   "cell_type": "markdown",
   "id": "b954dee7-1bfc-44df-884d-b3096541a7b0",
   "metadata": {},
   "source": [
    "---"
   ]
  },
  {
   "cell_type": "markdown",
   "id": "2ed0a83c-db22-46b7-a239-99f27ee3a45f",
   "metadata": {
    "tags": []
   },
   "source": [
    "# The launcher"
   ]
  },
  {
   "cell_type": "markdown",
   "id": "23ed0ab6",
   "metadata": {},
   "source": [
    "\n",
    "\n",
    "The Launcher gives access to the main features of the VRE. It appears when the JH environment opens up. To access a new launcher , click File -> New Launcher (or Ctrl+Shift+L)\n",
    "\n",
    "For today's demo, the 3 most useful tools are : \n",
    "\n",
    "* Create a Jupyter notebook\n",
    "\n",
    "* Execute the virtual desktop\n",
    "\n",
    "* Start a terminal\n",
    "\n",
    "![VRE Launcher](./Images/5-VRE_launcher.png)"
   ]
  },
  {
   "cell_type": "markdown",
   "id": "0b08db2b",
   "metadata": {
    "tags": []
   },
   "source": [
    "# The Virtual Desktop"
   ]
  },
  {
   "cell_type": "markdown",
   "id": "411baf0b",
   "metadata": {},
   "source": [
    "The Virtual Desktop can be used to launch specific tools, such as GIS software, office tools, etc.\n",
    "\n",
    "![VirtualDesktop](./Images/6-Desktop.png)"
   ]
  },
  {
   "cell_type": "markdown",
   "id": "9891f8c5",
   "metadata": {
    "tags": []
   },
   "source": [
    "# The terminal"
   ]
  },
  {
   "cell_type": "markdown",
   "id": "d9692a45",
   "metadata": {},
   "source": [
    "The terminal is a classic Bash command processor, that runs in a text window. Its documentation can be found here : https://www.gnu.org/software/bash/manual/bash.html\n",
    "\n",
    "![Terminal](./Images/7-Terminal.png)"
   ]
  },
  {
   "cell_type": "markdown",
   "id": "6be791fd",
   "metadata": {},
   "source": [
    "# The Jupyter notebook"
   ]
  },
  {
   "cell_type": "markdown",
   "id": "1b268c37",
   "metadata": {},
   "source": [
    "A Jupyter notebook is a powerful scripting tool.\n",
    "\n",
    "Notebook documents (or “notebooks”, all lower case) are documents produced by the Jupyter Notebook App, which contain both computer code (e.g. python) and rich text elements (paragraph, equations, figures, links, etc…). Notebook documents are both human-readable documents containing  analysis description and  results (figures, tables, etc..) as well as executable documents which can be run to perform data analysis\n",
    "\n",
    "The code is split in \"cells\" that can contain either:\n",
    "* Code : to execute Python code. When the code is run, the notebook displays the output below the code cell that generated it.\n",
    "* Markdown : to display information in place where the cell is run"
   ]
  },
  {
   "cell_type": "markdown",
   "id": "850a7bdf",
   "metadata": {},
   "source": [
    "## Help\n",
    "\n",
    "The best option to get help is to click on the Help tab above"
   ]
  },
  {
   "cell_type": "markdown",
   "id": "90193fd9",
   "metadata": {},
   "source": [
    "## Starting a new notebook"
   ]
  },
  {
   "cell_type": "markdown",
   "id": "8c5d81fc",
   "metadata": {},
   "source": [
    "To create a new notebook,  click \"File\" -> \"New\" -> \"Notebook\"\n",
    "\n",
    "A new notebook will be created in a separate tab\n",
    "\n",
    "To rename this new notebook right-click its tab and select \"Rename Notebook\"\n",
    "\n",
    "![Rename](./Images/8-rename.png)"
   ]
  },
  {
   "cell_type": "markdown",
   "id": "3650fff6",
   "metadata": {},
   "source": [
    "## How to run a notebook ?"
   ]
  },
  {
   "cell_type": "markdown",
   "id": "34f06468",
   "metadata": {},
   "source": [
    "You can run the notebook document step-by-step (one cell a time) by pressing \"shift + enter\" on the keyboard or by clicking the \"play\" button in the top menu\n",
    "\n",
    "You can run the whole notebook in a single step by clicking on the menu Cell -> Run All.\n",
    "\n",
    "![title](./Images/1-Notebook_buttons.png)"
   ]
  },
  {
   "cell_type": "markdown",
   "id": "7cf8c8ce",
   "metadata": {},
   "source": [
    "The above (and current) cells are markdown cells, where text can be formatted (bullet points, numbering, images, etc.)\n",
    "\n",
    "Below is a code cell : "
   ]
  },
  {
   "cell_type": "code",
   "execution_count": null,
   "id": "740cb596",
   "metadata": {},
   "outputs": [],
   "source": [
    "print(\"Hello World\")"
   ]
  },
  {
   "cell_type": "markdown",
   "id": "5b7643fb",
   "metadata": {},
   "source": [
    "Keyboard shortcuts are available, the full list can be accessed by clicking the \"commands\" button on the left panel\n",
    "\n",
    "![Commands](./Images/2-Jupyter_commands.png)"
   ]
  },
  {
   "cell_type": "markdown",
   "id": "bf9e4059",
   "metadata": {},
   "source": [
    "## Kernels"
   ]
  },
  {
   "cell_type": "markdown",
   "id": "0ce488d8",
   "metadata": {},
   "source": [
    "A notebook kernel is a “computational engine” that executes the code contained in a Notebook document. The ipython kernel, used in this demo, executes python code. Kernels for many other languages exist.\n",
    "\n",
    "When you open a Notebook document, the associated kernel is automatically launched. When the notebook is executed, the kernel performs the computation and produces the results. Depending on the type of computations, the kernel may consume more or less CPU and RAM. \n",
    "\n",
    "To change or restart a Kernel, use the dedicated menu\n",
    "\n",
    "![ChangeKernel](./Images/3-Change_Kernel_a.png)\n",
    "\n",
    "To restart the kernel (i.e. the computational engine), click on the menu Kernel -> Restart. This can be useful to start over a computation from scratch (e.g. variables are deleted, open files are closed, etc…)."
   ]
  },
  {
   "cell_type": "markdown",
   "id": "169b1c0d",
   "metadata": {},
   "source": [
    "## Navigation"
   ]
  },
  {
   "cell_type": "markdown",
   "id": "1fa8823f",
   "metadata": {},
   "source": [
    "The \"Table of Contents\" button in the left menu opens a navigation panel that can be used to navigate.\n",
    "\n",
    "The navigation is done thanks to different headings levels, within markdown cells. Using # symbols (e.g. the first level is \"# Text\")\n",
    "\n",
    "Click on a section to navigate directly\n",
    "\n",
    "![ToC](./Images/4-ToC.png)\n"
   ]
  },
  {
   "cell_type": "markdown",
   "id": "a619d37d-e7eb-453e-bfae-5c5852bb7dfc",
   "metadata": {},
   "source": [
    "# The IDE "
   ]
  },
  {
   "cell_type": "markdown",
   "id": "40748ebf-f196-45ae-811d-8f8849e3cd2a",
   "metadata": {},
   "source": [
    "The innovation lab is supplied with an IDE : Virtual Studio Code. It is accessible via the launcher"
   ]
  },
  {
   "cell_type": "markdown",
   "id": "40c01436-322e-4033-8613-07f4fd6eef22",
   "metadata": {},
   "source": [
    "![VS_Code_Logo](./Images/18-VS_Code_Logo.png)"
   ]
  },
  {
   "cell_type": "markdown",
   "id": "bb786c6a-1f91-455b-80a0-8e7d0cb28e10",
   "metadata": {},
   "source": [
    "It allows to browse through your files in the innovation lab , choose a language on a new file , and compile it on the language of your choice"
   ]
  },
  {
   "cell_type": "markdown",
   "id": "69bdb225-b71b-4ebe-b7c3-440da8fee01d",
   "metadata": {},
   "source": [
    "![IDE_1](./Images/16-IDE_1.png)"
   ]
  },
  {
   "cell_type": "markdown",
   "id": "a4f4c874-b5ab-4a1b-b9e5-df15a3aea0ff",
   "metadata": {},
   "source": [
    "Also, it supports intelligent code completion that helps a lot when coding"
   ]
  },
  {
   "cell_type": "markdown",
   "id": "44e1b1cf-4497-4f27-8211-7f44f580cb96",
   "metadata": {},
   "source": [
    "![IDE_2](./Images/17-IDE_2.png)"
   ]
  },
  {
   "cell_type": "markdown",
   "id": "bfac598d",
   "metadata": {},
   "source": [
    "# Basic python code execution"
   ]
  },
  {
   "cell_type": "markdown",
   "id": "003843f0-0e86-4af6-a3b8-3ba285a81c6b",
   "metadata": {},
   "source": [
    "The following sub-section enumerates some basic python code functions that can be useful to all users"
   ]
  },
  {
   "cell_type": "markdown",
   "id": "3d674d85",
   "metadata": {},
   "source": [
    "Create the variable \"sum\", and display the result by simply entering it's name on a separate line.\n",
    "\n",
    "Remember : to execute the cell below, click the play button or use the keyboard shortcut \"shift + Enter\""
   ]
  },
  {
   "cell_type": "code",
   "execution_count": null,
   "id": "01c4ab07",
   "metadata": {},
   "outputs": [],
   "source": [
    "sum = 3 + 5\n",
    "sum"
   ]
  },
  {
   "cell_type": "markdown",
   "id": "e9f22a6c",
   "metadata": {},
   "source": [
    "Note that once a cell is executed, all the objects (variables) created are stored into memory. For example, the variable \"sum\" created above can be called again : "
   ]
  },
  {
   "cell_type": "code",
   "execution_count": null,
   "id": "1879dad8",
   "metadata": {},
   "outputs": [],
   "source": [
    "sum"
   ]
  },
  {
   "cell_type": "markdown",
   "id": "c989e5bc",
   "metadata": {},
   "source": [
    "Methods can be defined"
   ]
  },
  {
   "cell_type": "code",
   "execution_count": null,
   "id": "d9f015cd",
   "metadata": {},
   "outputs": [],
   "source": [
    "def compute_sum(a, b):\n",
    "    output = a + b\n",
    "    return output"
   ]
  },
  {
   "cell_type": "code",
   "execution_count": null,
   "id": "e7b404e4",
   "metadata": {},
   "outputs": [],
   "source": [
    "compute_sum(3, 9)"
   ]
  },
  {
   "cell_type": "markdown",
   "id": "55f28ddf",
   "metadata": {},
   "source": [
    "Or classes"
   ]
  },
  {
   "cell_type": "code",
   "execution_count": null,
   "id": "02707150",
   "metadata": {},
   "outputs": [],
   "source": [
    "# A Sample class with init method\n",
    "class Person:\n",
    "   \n",
    "    # init method or constructor \n",
    "    def __init__(self, name, age):\n",
    "        self.name = name\n",
    "        self.age = age\n",
    "   \n",
    "    # Sample Method \n",
    "    def say_hi(self):\n",
    "        print('Hello, my name is', self.name)\n",
    "        print('My age is', self.age)\n",
    "   \n",
    "# Create object Person with attributes \"Michael\" and \"44\"\n",
    "p = Person('Michael', 44)\n",
    "# Display info \n",
    "p.say_hi()"
   ]
  },
  {
   "cell_type": "markdown",
   "id": "a7e6744e",
   "metadata": {},
   "source": [
    "Display an object value"
   ]
  },
  {
   "cell_type": "code",
   "execution_count": null,
   "id": "6f65f73f",
   "metadata": {},
   "outputs": [],
   "source": [
    "p.age"
   ]
  },
  {
   "cell_type": "markdown",
   "id": "5d15ed62",
   "metadata": {},
   "source": [
    "Note that if the kernel is restarted, everything is cleaned up"
   ]
  },
  {
   "cell_type": "markdown",
   "id": "a44eab83",
   "metadata": {},
   "source": [
    "To compute \"p.age\" again, all the above cells must me re-executed."
   ]
  },
  {
   "cell_type": "markdown",
   "id": "99ab73e9",
   "metadata": {},
   "source": [
    "# Notebooks are super handy"
   ]
  },
  {
   "cell_type": "markdown",
   "id": "c7236b86",
   "metadata": {},
   "source": [
    "## Markdown \n",
    "\n",
    "Jupyter notebooks accept markdown. This can be useful to write interactive documentation for example.\n",
    "\n",
    "Some examples of simple markdown in code cells' output are given below"
   ]
  },
  {
   "cell_type": "code",
   "execution_count": null,
   "id": "b90bc291",
   "metadata": {},
   "outputs": [],
   "source": [
    "from IPython.display import Markdown, display\n",
    "display(Markdown(\"**BOLD TEXT**\"))\n",
    "display(Markdown(\"*Italic Text*\"))"
   ]
  },
  {
   "cell_type": "markdown",
   "id": "acf471da",
   "metadata": {},
   "source": [
    " A more complex example using colors"
   ]
  },
  {
   "cell_type": "code",
   "execution_count": null,
   "id": "9d953f3f",
   "metadata": {},
   "outputs": [],
   "source": [
    "def printmd(string, color=None):\n",
    "    colorstr = \"<span style='color:{}'>{}</span>\".format(color, string)\n",
    "    display(Markdown(colorstr))\n",
    "printmd(\"This line is blue\", color='blue')\n",
    "printmd(\"**This line is bold and red**\", color='red')"
   ]
  },
  {
   "cell_type": "markdown",
   "id": "5e389792",
   "metadata": {},
   "source": [
    "Markdown can also link to other [web pages](https://jupyter.org/)\n",
    "\n",
    "To enter a link, simply write the adress between brackets and the short name between square brackets."
   ]
  },
  {
   "cell_type": "raw",
   "id": "55b26bb9-b02d-45be-8b1a-97167c00f815",
   "metadata": {},
   "source": [
    "[web pages](https://jupyter.org/)"
   ]
  },
  {
   "cell_type": "markdown",
   "id": "dbca49a8",
   "metadata": {},
   "source": [
    "**Display equations**\n",
    "\n",
    "With Markdown , it is possible to display LaTeX equations : "
   ]
  },
  {
   "cell_type": "markdown",
   "id": "9bf3decb",
   "metadata": {},
   "source": [
    "$\n",
    "\\begin{equation}\n",
    "e^x=\\sum_{i=0}^\\infty \\frac{1}{i!}x^i\n",
    "\\end{equation}\n",
    "$"
   ]
  },
  {
   "cell_type": "markdown",
   "id": "17bc451b",
   "metadata": {},
   "source": [
    "## Widgets"
   ]
  },
  {
   "cell_type": "markdown",
   "id": "289cb9e0",
   "metadata": {},
   "source": [
    "Jupyter notebooks can be enhanced with widgets\n",
    "\n",
    "The cell below defines several widgets"
   ]
  },
  {
   "cell_type": "code",
   "execution_count": null,
   "id": "2bb480d4",
   "metadata": {},
   "outputs": [],
   "source": [
    "import ipywidgets as widgets\n",
    "from IPython.display import display\n",
    "\n",
    "style = {\"description_width\": \"initial\"}\n",
    "widget1 = widgets.ToggleButtons(\n",
    "    options=[\"Option 1\", \"Option 2\", \"Option 3\"],\n",
    "    value=\"Option 1\", # Default value\n",
    "    description=\"Choose an option\",\n",
    "    disabled=False,\n",
    "    button_style=\"danger\",\n",
    "    tooltips=[\n",
    "        \"Tooltip for option 1\",\n",
    "        \"Tooltip for option 2\",\n",
    "        \"Tooltip for option 3\",\n",
    "    ],\n",
    "    style=style,\n",
    ")\n",
    "\n",
    "widget2 = widgets.Checkbox(\n",
    "    value=True,\n",
    "    description=\"This is a checkbox\",\n",
    "    disabled=False,\n",
    "    style=style,\n",
    ")\n",
    "\n",
    "widget3 = widgets.IntSlider()"
   ]
  },
  {
   "cell_type": "code",
   "execution_count": null,
   "id": "d7d83e3e",
   "metadata": {},
   "outputs": [],
   "source": [
    "display(widget1)\n",
    "display(widget2)\n",
    "display(widget3)"
   ]
  },
  {
   "cell_type": "code",
   "execution_count": null,
   "id": "c1124e47",
   "metadata": {},
   "outputs": [],
   "source": [
    "print(\"The first widget value is: \", widget1.value)\n",
    "print(\"State of the second widget: \", widget2.value)\n",
    "print(\"Value of third widget: \", widget3.value)"
   ]
  },
  {
   "cell_type": "markdown",
   "id": "c4184529",
   "metadata": {},
   "source": [
    "## Other interesting tools"
   ]
  },
  {
   "cell_type": "markdown",
   "id": "5b4003ca",
   "metadata": {},
   "source": [
    "### Display a progress bars"
   ]
  },
  {
   "cell_type": "markdown",
   "id": "b38401d8",
   "metadata": {},
   "source": [
    "A simple progress bar"
   ]
  },
  {
   "cell_type": "code",
   "execution_count": null,
   "id": "ac76ac77",
   "metadata": {},
   "outputs": [],
   "source": [
    "from tqdm.notebook import tqdm, trange\n",
    "import time\n",
    "for i in tqdm(range(100), desc=\"Just waiting\"):\n",
    "    time.sleep(.1)"
   ]
  },
  {
   "cell_type": "markdown",
   "id": "9d31a866",
   "metadata": {},
   "source": [
    "We can also use nested progress bars"
   ]
  },
  {
   "cell_type": "code",
   "execution_count": null,
   "id": "24caa963",
   "metadata": {},
   "outputs": [],
   "source": [
    "for i in trange(4, desc=\"Main computation\"):\n",
    "    for j in trange(5, desc=\"Intermediate computations\"):\n",
    "        time.sleep(.5)\n",
    "    if i == 3:\n",
    "        print(\"Done !\")"
   ]
  },
  {
   "cell_type": "markdown",
   "id": "07020122",
   "metadata": {},
   "source": [
    "### Using shell commands\n",
    "\n",
    "Simply start a code cell with an exclamation mark to run a shell command"
   ]
  },
  {
   "cell_type": "code",
   "execution_count": null,
   "id": "5f623781",
   "metadata": {},
   "outputs": [],
   "source": [
    "!ls -al\n",
    "!echo \"I can print here\""
   ]
  },
  {
   "cell_type": "markdown",
   "id": "89dffbeb",
   "metadata": {},
   "source": [
    "### Magic commands\n",
    "\n",
    "Magic commands are special commands that help with productivity.\n",
    "\n",
    "For example, to display all variables "
   ]
  },
  {
   "cell_type": "code",
   "execution_count": null,
   "id": "3922ba58",
   "metadata": {},
   "outputs": [],
   "source": [
    "%who"
   ]
  },
  {
   "cell_type": "markdown",
   "id": "b4cfd4d0",
   "metadata": {},
   "source": [
    "To measure the execution time of a line of code"
   ]
  },
  {
   "cell_type": "code",
   "execution_count": null,
   "id": "b085e248",
   "metadata": {},
   "outputs": [],
   "source": [
    "%time time.sleep(1)"
   ]
  },
  {
   "cell_type": "markdown",
   "id": "a5cbb7d8",
   "metadata": {},
   "source": [
    "To measure the execution time of a cell"
   ]
  },
  {
   "cell_type": "code",
   "execution_count": null,
   "id": "9d81779a",
   "metadata": {},
   "outputs": [],
   "source": [
    "%%time\n",
    "time.sleep(1)\n",
    "time.sleep(.5)"
   ]
  },
  {
   "cell_type": "markdown",
   "id": "02423422",
   "metadata": {},
   "source": [
    "These equations can be displayed inline as demonstrated here : $e^{i\\pi} + 1 = 0$"
   ]
  },
  {
   "cell_type": "markdown",
   "id": "226ae06d",
   "metadata": {},
   "source": [
    "# Adding a library to the environment\n",
    "\n",
    "You may want to install a Python library that is not available by default in the VRE. If you think that the library can benefit to all users, , please contact the Innovation Lab Support. Otherwise, you can install the library in your environment only. \n",
    "\n",
    "There are two ways to do the above. In both cases, the proxy environment variables should be set."
   ]
  },
  {
   "cell_type": "markdown",
   "id": "3712c33c",
   "metadata": {
    "jp-MarkdownHeadingCollapsed": true,
    "tags": []
   },
   "source": [
    "## Using user environment\n",
    "\n",
    "With `user` pip option, you can install a library into your user space.\n",
    "\n",
    "```bash\n",
    "pip install --user requests\n",
    "```\n",
    "\n",
    "The lib will be installed into `$HOME/.local/lib/python3.6/site-packages`."
   ]
  },
  {
   "cell_type": "markdown",
   "id": "3ddce637",
   "metadata": {
    "jp-MarkdownHeadingCollapsed": true,
    "tags": []
   },
   "source": [
    "## Using a virtual environment\n",
    "\n",
    "The alternative is to create a virtual environment. That way, you will be able to install several versions of the same lib.\n",
    "\n",
    "```bash\n",
    "virtualenv venv\n",
    "source venv/bin/activate\n",
    "pip install requests==2.23.0 ```\n"
   ]
  },
  {
   "cell_type": "markdown",
   "id": "719dce82",
   "metadata": {
    "jp-MarkdownHeadingCollapsed": true,
    "tags": []
   },
   "source": [
    "## Use a virtual environment as a notebook kernel\n",
    "\n",
    "```bash\n",
    "virtualenv venv\n",
    "source venv/bin/activate\n",
    "python -m ipykernel install --user --name testenv --display-name \"Test env (testenv)\" \n",
    "```\n",
    "\n",
    "Then a new kernel will be available in the launcher tab (reopen launcher if missing)\n",
    "\n",
    "After that `jupyter kernelspec list` allows to list available kernels and `jupyter kernelspec uninstall testenv` can be used to remove the kernel if needed, before removing the conda virtual environment itself."
   ]
  }
 ],
 "metadata": {
  "kernelspec": {
   "display_name": "Python 3 (ipykernel)",
   "language": "python",
   "name": "python3"
  },
  "language_info": {
   "codemirror_mode": {
    "name": "ipython",
    "version": 3
   },
   "file_extension": ".py",
   "mimetype": "text/x-python",
   "name": "python",
   "nbconvert_exporter": "python",
   "pygments_lexer": "ipython3",
   "version": "3.8.10"
  },
  "toc-autonumbering": true,
  "toc-showtags": false
 },
 "nbformat": 4,
 "nbformat_minor": 5
}
