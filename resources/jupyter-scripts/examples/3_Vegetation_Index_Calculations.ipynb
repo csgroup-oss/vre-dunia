{
 "cells": [
  {
   "cell_type": "markdown",
   "id": "d0d42d7a-81f0-4519-8bec-c8d63c7c12e1",
   "metadata": {},
   "source": [
    "![intro_banner](./Images/21-3-2.5-Banner.png)"
   ]
  },
  {
   "cell_type": "markdown",
   "id": "2a35f3bf-e2ff-48fd-b681-9b59bc8df733",
   "metadata": {},
   "source": [
    "---"
   ]
  },
  {
   "cell_type": "markdown",
   "id": "39b812d1",
   "metadata": {},
   "source": [
    "**This notebook will demonstrate how to calculate a vegetation index.**"
   ]
  },
  {
   "cell_type": "code",
   "execution_count": null,
   "id": "70b69e0f",
   "metadata": {},
   "outputs": [],
   "source": [
    "import warnings\n",
    "\n",
    "warnings.filterwarnings(\"ignore\")"
   ]
  },
  {
   "cell_type": "markdown",
   "id": "60d0effa",
   "metadata": {
    "tags": []
   },
   "source": [
    "# Exercises\n",
    "\n",
    "_**Important**_ : The cells below require your contribution to work. Whenever it is your turn, it will be indicated in the comments !"
   ]
  },
  {
   "cell_type": "markdown",
   "id": "ab67ecf4",
   "metadata": {},
   "source": [
    "## Customise a widget\n",
    "\n",
    "Edit the cell below to\n",
    "* Display only two options\n",
    "* Rename the options : \"Yes\", \"No\"\n",
    "* Edit the tooltip to display \"Yes\" and \"No\"\n",
    "\n",
    "Note that values should be separated by comas"
   ]
  },
  {
   "cell_type": "code",
   "execution_count": null,
   "id": "46c3013b",
   "metadata": {},
   "outputs": [],
   "source": [
    "# It's your turn ! : This cell will not execute until it is filled !\n",
    "import ipywidgets as widgets\n",
    "from IPython.display import display\n",
    "\n",
    "style = {\"description_width\": \"initial\"}\n",
    "widget1 = widgets.ToggleButtons(\n",
    "    options=[\"...\", \"...\"],  # Fill code here , Example : options=[\"Option1\", \"Option2\"]\n",
    "    value=\"...\",  # Fill code here for default value \n",
    "    description=\"Choose an option\",\n",
    "    disabled=False,\n",
    "    button_style=\"danger\",\n",
    "    tooltips=[\"...\", \"...\"],  # Fill code here\n",
    "    style=style,\n",
    ")\n",
    "\n",
    "display(widget1)"
   ]
  },
  {
   "cell_type": "markdown",
   "id": "8d8e1f90",
   "metadata": {
    "tags": []
   },
   "source": [
    "## Compute Vegetation Index\n",
    "\n",
    "NDVI is probably the most basic method to compute a vegetation index.\n",
    "\n",
    "In this exercice, you will reproduce the computation performed in the previous demo."
   ]
  },
  {
   "cell_type": "markdown",
   "id": "723b7a7e",
   "metadata": {},
   "source": [
    "## Step 1 : open files\n",
    "\n",
    "Remember that Red Band is Band #4 and IR Band is band #8"
   ]
  },
  {
   "cell_type": "code",
   "execution_count": null,
   "id": "f35c14c1",
   "metadata": {},
   "outputs": [],
   "source": [
    "import os\n",
    "import xarray as xr\n",
    "\n",
    "path = \"./Products/Cameroon/\"\n",
    "file_red = \"B04_crop_epsg4326.tif\"  # Name of red band file\n",
    "file_IR = \"B08_crop_epsg4326.tif\"  # Name of green band file\n",
    "# Create full path to files\n",
    "product_IR = os.path.join(path, file_IR)\n",
    "product_red = os.path.join(path, file_red)"
   ]
  },
  {
   "cell_type": "markdown",
   "id": "93f6c939",
   "metadata": {},
   "source": [
    "Check that files are found"
   ]
  },
  {
   "cell_type": "code",
   "execution_count": null,
   "id": "ec97114a",
   "metadata": {},
   "outputs": [],
   "source": [
    "print(\"Checking green band file: \", os.path.isfile(product_IR))\n",
    "print(\"Checking red band file: \", os.path.isfile(product_red))"
   ]
  },
  {
   "cell_type": "markdown",
   "id": "d3a18a57",
   "metadata": {},
   "source": [
    "Modify cell below to open files with Xarray"
   ]
  },
  {
   "cell_type": "code",
   "execution_count": null,
   "id": "42593fee",
   "metadata": {},
   "outputs": [],
   "source": [
    "# It's your turn : This cell will not execute until it is filled !\n",
    "red = xr.open_rasterio(product_red, chunks={\"band\": 1, \"y\": 2745, \"x\": 2745})\n",
    "# Code needs to be filled in the below cell ! What should we replace \"Insert_variable_here\" by ?\n",
    "nir = xr.open_rasterio(Insert_variable_here, chunks={\"band\": 1, \"y\": 2745, \"x\": 2745})"
   ]
  },
  {
   "cell_type": "markdown",
   "id": "afcdc4b4",
   "metadata": {},
   "source": [
    "Display data to check that everything was opened properly"
   ]
  },
  {
   "cell_type": "code",
   "execution_count": null,
   "id": "86370e65",
   "metadata": {},
   "outputs": [],
   "source": [
    "red"
   ]
  },
  {
   "cell_type": "markdown",
   "id": "325df2fc",
   "metadata": {},
   "source": [
    "## Step 2 : Create a Xarray\n",
    "\n",
    "Concatenate data into a single Xarray DataArray\n",
    "\n",
    "First, rename bands names"
   ]
  },
  {
   "cell_type": "code",
   "execution_count": null,
   "id": "0a3fae61",
   "metadata": {},
   "outputs": [],
   "source": [
    "red[\"band\"] = [\"red\"]\n",
    "nir[\"band\"] = [\"nir\"]"
   ]
  },
  {
   "cell_type": "markdown",
   "id": "91539565",
   "metadata": {},
   "source": [
    "Then, concatenate data and display to check "
   ]
  },
  {
   "cell_type": "code",
   "execution_count": null,
   "id": "61ae84ed",
   "metadata": {},
   "outputs": [],
   "source": [
    "data_array = xr.concat([red, nir], dim=\"band\")\n",
    "data_array"
   ]
  },
  {
   "cell_type": "markdown",
   "id": "8cbb2730",
   "metadata": {},
   "source": [
    "## Step 3 : compute the vegetation index"
   ]
  },
  {
   "cell_type": "code",
   "execution_count": null,
   "id": "8a1c4a81",
   "metadata": {},
   "outputs": [],
   "source": [
    "NDVI = (data_array.sel(band=\"nir\") - data_array.sel(band=\"red\")) / (\n",
    "    data_array.sel(band=\"nir\") + data_array.sel(band=\"red\")\n",
    ")"
   ]
  },
  {
   "cell_type": "markdown",
   "id": "c11fbdd6",
   "metadata": {},
   "source": [
    "## Step 4 : Display"
   ]
  },
  {
   "cell_type": "code",
   "execution_count": null,
   "id": "3f57ea88",
   "metadata": {},
   "outputs": [],
   "source": [
    "from matplotlib import pyplot as plt\n",
    "\n",
    "fig, axes = plt.subplots(ncols=2, sharey=True)\n",
    "NDVI = NDVI.fillna(0)\n",
    "NDVI.plot(ax=axes[0], add_colorbar=False, cmap=\"Greens\")\n",
    "axes[0].yaxis.set_visible(False)\n",
    "axes[0].xaxis.set_visible(False)"
   ]
  }
 ],
 "metadata": {
  "kernelspec": {
   "display_name": "Python 3 (ipykernel)",
   "language": "python",
   "name": "python3"
  },
  "language_info": {
   "codemirror_mode": {
    "name": "ipython",
    "version": 3
   },
   "file_extension": ".py",
   "mimetype": "text/x-python",
   "name": "python",
   "nbconvert_exporter": "python",
   "pygments_lexer": "ipython3",
   "version": "3.8.10"
  },
  "toc-autonumbering": false
 },
 "nbformat": 4,
 "nbformat_minor": 5
}
