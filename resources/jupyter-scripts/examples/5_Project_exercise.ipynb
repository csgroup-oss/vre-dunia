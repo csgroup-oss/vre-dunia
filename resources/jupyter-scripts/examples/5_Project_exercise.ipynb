{
 "cells": [
  {
   "cell_type": "markdown",
   "id": "b18f0ec2-a040-47ac-82be-00fd353b7f39",
   "metadata": {},
   "source": [
    "![intro_banner](./Images/26-4-2.3-Banner.png)"
   ]
  },
  {
   "cell_type": "markdown",
   "id": "9d0f72f4-ea70-41bc-9157-cb21f54dc29d",
   "metadata": {},
   "source": [
    "---"
   ]
  },
  {
   "cell_type": "markdown",
   "id": "dd53dc9e",
   "metadata": {},
   "source": [
    "# Introduction"
   ]
  },
  {
   "cell_type": "markdown",
   "id": "740ddf63",
   "metadata": {},
   "source": [
    "_**Theme of the project**_  : python programming applied to Earth Observation, within the VRE"
   ]
  },
  {
   "cell_type": "markdown",
   "id": "c9cfd070",
   "metadata": {},
   "source": [
    "This exercise is inspired by a research article by _M. Urban et. al._ that you can download from [this link](https://www.mdpi.com/2072-4292/10/9/1482)\n",
    "\n",
    "During the southern summer season of 2015 and 2016, South Africa experienced one of the most severe meteorological droughts since the start of climate recording, due to an exceptionally strong \"El Niño\" event. To investigate spatiotemporal dynamics of surface moisture and vegetation structure, data from ESA’s Copernicus Sentinel-1/-2 and NASA’s Landsat-8 for the period between March 2015 and November 2017 were used\n",
    "\n",
    "Several techniques and indices were computed to assess the severity of the drought and its temporal variations.\n",
    "\n",
    "Here, the study is limited to the computation of the vegetation index to compare vegetation status between dry and wet seasons, both visually and numerically.\n",
    "\n",
    "The NDWI will also be used to visualise variation in water level."
   ]
  },
  {
   "cell_type": "markdown",
   "id": "aad9f023-0421-4b0f-ba71-5a7e1e273e59",
   "metadata": {},
   "source": [
    "_**Important**_ : The cells below require your contribution to work. Whenever it is your turn, it will be indicated !"
   ]
  },
  {
   "cell_type": "markdown",
   "id": "2b6e955a",
   "metadata": {
    "tags": []
   },
   "source": [
    "# Import all the modules needed for the exercise"
   ]
  },
  {
   "cell_type": "code",
   "execution_count": null,
   "id": "f3d8d61f",
   "metadata": {},
   "outputs": [],
   "source": [
    "import os\n",
    "import warnings\n",
    "\n",
    "import xarray\n",
    "import rioxarray\n",
    "import rasterio\n",
    "from rasterio.plot import show\n",
    "import numpy as np\n",
    "import folium\n",
    "\n",
    "from eodag import EODataAccessGateway\n",
    "\n",
    "warnings.filterwarnings(\"ignore\")"
   ]
  },
  {
   "cell_type": "markdown",
   "id": "606e5498",
   "metadata": {},
   "source": [
    "# Fetch the products with EODAG"
   ]
  },
  {
   "cell_type": "markdown",
   "id": "aa048009",
   "metadata": {},
   "source": [
    "You have practiced EODAG in a previous exercise. To save bandwidth, the files required to perform this exercice have been previously downloaded and prepared"
   ]
  },
  {
   "cell_type": "markdown",
   "id": "d4bcc713",
   "metadata": {},
   "source": [
    "# Quick display"
   ]
  },
  {
   "cell_type": "markdown",
   "id": "1c84992b",
   "metadata": {},
   "source": [
    "We will start by displaying the product on an interactive map to locate the area that we will use in the exercise. To display the product properly, we will need to find the central coordinates of the product as well as those of its boundaries (top left corner & bottom right corner)"
   ]
  },
  {
   "cell_type": "markdown",
   "id": "eb3a9744",
   "metadata": {},
   "source": [
    "Open the True-Colour Image with rasterio"
   ]
  },
  {
   "cell_type": "code",
   "execution_count": null,
   "id": "ced5986f",
   "metadata": {},
   "outputs": [],
   "source": [
    "src_tci_img = \"\"\"YOUR CODE HERE\"\"\""
   ]
  },
  {
   "cell_type": "markdown",
   "id": "5cbd2c23",
   "metadata": {},
   "source": [
    "Now, get the bounds of the tiff files using rasterio built-in method \".bounds\""
   ]
  },
  {
   "cell_type": "code",
   "execution_count": null,
   "id": "bee5bc78",
   "metadata": {},
   "outputs": [],
   "source": [
    "x1_tci, y1_tci, x2_tci, y2_tci = \"\"\"YOUR CODE HERE\"\"\"\n",
    "print(\n",
    "    \"Bounds of the layer are:\\n{0} {1}\\n{2} {3}\".format(x1_tci, y1_tci, x2_tci, y2_tci)\n",
    ")"
   ]
  },
  {
   "cell_type": "markdown",
   "id": "6df4193c",
   "metadata": {},
   "source": [
    "To center the display, you will also need the longitude and latitude of the product : use rasterio to get these values"
   ]
  },
  {
   "cell_type": "code",
   "execution_count": null,
   "id": "16c90ff8",
   "metadata": {},
   "outputs": [],
   "source": [
    "lon, lat = \"\"\"YOUR CODE HERE\"\"\" "
   ]
  },
  {
   "cell_type": "markdown",
   "id": "c9eb0980",
   "metadata": {},
   "source": [
    "Now, display the product on an interactive map with folium"
   ]
  },
  {
   "cell_type": "code",
   "execution_count": null,
   "id": "18fb459d",
   "metadata": {},
   "outputs": [],
   "source": [
    "m = folium.Map(location=\"\"\"YOUR CODE HERE\"\"\", zoom_start=12)\n",
    "\n",
    "folium.raster_layers.ImageOverlay(\n",
    "    image=src_tci_img.read()[0],\n",
    "    bounds=[[y1_tci, x1_tci], [y2_tci, x2_tci]],\n",
    "    opacity=0.7,\n",
    ").add_to(m)\n",
    "\n",
    "m"
   ]
  },
  {
   "cell_type": "markdown",
   "id": "9dcd0e50",
   "metadata": {},
   "source": [
    "The study area is located in the East of South Africa"
   ]
  },
  {
   "cell_type": "markdown",
   "id": "d6d7d458",
   "metadata": {},
   "source": [
    "# READ DATA"
   ]
  },
  {
   "cell_type": "markdown",
   "id": "125bce40",
   "metadata": {},
   "source": [
    "The first step consists in opening all the required data.\n",
    "\n",
    "The data is stored on the drive, one file for each band, that we will open one by one"
   ]
  },
  {
   "cell_type": "markdown",
   "id": "beeda99e",
   "metadata": {},
   "source": [
    "## Open files"
   ]
  },
  {
   "cell_type": "markdown",
   "id": "5ad92120",
   "metadata": {},
   "source": [
    "Using xarray, open the following bands for both WET and DRY regions : \n",
    "- B03 (green)\n",
    "- B04 (red)\n",
    "- NIR (B08)\n",
    "- NIR_A (B08A)\n",
    "- SWIR (B11)\n",
    "\n",
    "Store the data into two separate Xarrays (one for each season)."
   ]
  },
  {
   "cell_type": "code",
   "execution_count": null,
   "id": "9a3bc935",
   "metadata": {},
   "outputs": [],
   "source": [
    "# January 2017 - Wet season\n",
    "base_path = \"\"\"YOUR CODE HERE\"\"\"\n",
    "green_wet = xarray.open_rasterio(os.path.join(base_path, \"./Products/South_Africa/[...]/B03_epsg4326.tif\")) \n",
    "red_wet = \"\"\"YOUR CODE HERE\"\"\"  \n",
    "nir_wet = \"\"\"YOUR CODE HERE\"\"\"  \n",
    "nir_A_wet = \"\"\"YOUR CODE HERE\"\"\"\n",
    "swir_wet = \"\"\"YOUR CODE HERE\"\"\" \n",
    "\n",
    "# Septembre 2016 - Dry saison\n",
    "base_path_dry = \"\"\"YOUR CODE HERE\"\"\"\n",
    "green_dry = \"\"\"YOUR CODE HERE\"\"\"\n",
    "red_dry = \"\"\"YOUR CODE HERE\"\"\"\n",
    "nir_dry = \"\"\"YOUR CODE HERE\"\"\"\n",
    "nir_A_dry = \"\"\"YOUR CODE HERE\"\"\"\n",
    "swir_dry = \"\"\"YOUR CODE HERE\"\"\""
   ]
  },
  {
   "cell_type": "markdown",
   "id": "7fc00bf9",
   "metadata": {},
   "source": [
    "Print the products sizes to make sure they are correctly opened"
   ]
  },
  {
   "cell_type": "code",
   "execution_count": null,
   "id": "c64db257",
   "metadata": {},
   "outputs": [],
   "source": [
    "print(\"Red Band dimensions:\", \"\"\"YOUR CODE HERE\"\"\")\n",
    "print(\"NIR Band dimensions:\", \"\"\"YOUR CODE HERE\"\"\")\n",
    "print(\"Green Band dimensions:\", \"\"\"YOUR CODE HERE\"\"\")\n",
    "print(\"NIR-A Band dimensions:\", \"\"\"YOUR CODE HERE\"\"\")\n",
    "print(\"SWIR Band dimensions:\", \"\"\"YOUR CODE HERE\"\"\")\n",
    "print(\"Red Band dimensions:\", \"\"\"YOUR CODE HERE\"\"\")\n",
    "print(\"NIR Band dimensions:\", \"\"\"YOUR CODE HERE\"\"\")\n",
    "print(\"Green Band dimensions:\", \"\"\"YOUR CODE HERE\"\"\")\n",
    "print(\"NIR-A Band dimensions:\", \"\"\"YOUR CODE HERE\"\"\")\n",
    "print(\"SWIR Band dimensions:\", \"\"\"YOUR CODE HERE\"\"\")"
   ]
  },
  {
   "cell_type": "markdown",
   "id": "c984f724",
   "metadata": {},
   "source": [
    "## Create Data Arrays"
   ]
  },
  {
   "cell_type": "markdown",
   "id": "10f8bd66",
   "metadata": {},
   "source": [
    "In this section we will create Data Arrays containing all the products opened above to perform computations\n",
    "\n",
    "Display one Data Array of your choice to check dimensions, coordinates, band name, etc."
   ]
  },
  {
   "cell_type": "code",
   "execution_count": null,
   "id": "c7d2eada",
   "metadata": {},
   "outputs": [],
   "source": [
    "\"\"\"YOUR CODE HERE\"\"\""
   ]
  },
  {
   "cell_type": "markdown",
   "id": "d661db0a",
   "metadata": {},
   "source": [
    "Note that the coordinate **'Band'** has no particular name, so we will need to name each band for all Data Arrays\n",
    "\n",
    "For each band xarray, rename the band name to an understandable one:\n",
    "    \n",
    "e.g. red['band'] = ['red']"
   ]
  },
  {
   "cell_type": "code",
   "execution_count": null,
   "id": "0203404d",
   "metadata": {},
   "outputs": [],
   "source": [
    "# Affect correct name to bands in the data array\n",
    "\"\"\"YOUR CODE HERE\"\"\""
   ]
  },
  {
   "cell_type": "markdown",
   "id": "cafd2db8",
   "metadata": {},
   "source": [
    "Display the same DataArray as above to check its band has been correctly renamed"
   ]
  },
  {
   "cell_type": "code",
   "execution_count": null,
   "id": "45923b0e",
   "metadata": {},
   "outputs": [],
   "source": [
    "\"\"\"YOUR CODE HERE\"\"\""
   ]
  },
  {
   "cell_type": "markdown",
   "id": "f2be6307",
   "metadata": {},
   "source": [
    "In the following steps we will compute both NDVI and NDWI.\n",
    "\n",
    "Note that NDWI uses band B08A and B11 (or B12) while NDVI bands B03 and B08. These bands do not have the same shape : 277x349 vs 554x698, so we can not merge these bands into the same DataArray easily.\n",
    "\n",
    "This difference in shape is due to the resolution of these bands"
   ]
  },
  {
   "cell_type": "markdown",
   "id": "74da95da",
   "metadata": {},
   "source": [
    "Since not all bands yield the same resolution, we will separate the data and therefore concatenate the data into Xarrays : \n",
    "- One for Red, NIR, Green bands\n",
    "- One for NIR-A & SWIR bands"
   ]
  },
  {
   "cell_type": "markdown",
   "id": "f8cf6966",
   "metadata": {},
   "source": [
    "Now, create the 4 data arrays (two per season) by concatenating the required bands (use [xarray.concat](http://xarray.pydata.org/en/stable/generated/xarray.concat.html) )"
   ]
  },
  {
   "cell_type": "code",
   "execution_count": null,
   "id": "7b8040ee",
   "metadata": {},
   "outputs": [],
   "source": [
    "da_wet_a = \"\"\"YOUR CODE HERE\"\"\"  # concatenate here red, green, nir bands for wet season\n",
    "da_wet_b = \"\"\"YOUR CODE HERE\"\"\"  # concatenate here nir_A and swir bands for wet season\n",
    "da_dry_a = \"\"\"YOUR CODE HERE\"\"\" # concatenate here red, green, nir bands for dry season\n",
    "da_dry_b = \"\"\"YOUR CODE HERE\"\"\" # concatenate here nir_A and swir bands for dry season"
   ]
  },
  {
   "cell_type": "markdown",
   "id": "46a92e2f",
   "metadata": {},
   "source": [
    "Clean both data arrays by replacing N/A values by zero (use [fillna](http://xarray.pydata.org/en/stable/generated/xarray.DataArray.fillna.html?highlight=fillna) )"
   ]
  },
  {
   "cell_type": "code",
   "execution_count": null,
   "id": "f05b5e21",
   "metadata": {},
   "outputs": [],
   "source": [
    "da_wet_a = \"\"\"YOUR CODE HERE\"\"\"\n",
    "da_wet_b = \"\"\"YOUR CODE HERE\"\"\"\n",
    "da_dry_a = \"\"\"YOUR CODE HERE\"\"\"\n",
    "da_dry_b = \"\"\"YOUR CODE HERE\"\"\""
   ]
  },
  {
   "cell_type": "markdown",
   "id": "c7932a24",
   "metadata": {},
   "source": [
    "# Computations"
   ]
  },
  {
   "cell_type": "markdown",
   "id": "9df4db0d",
   "metadata": {},
   "source": [
    "Let's compute NDVI and NDWI"
   ]
  },
  {
   "cell_type": "markdown",
   "id": "60825e46",
   "metadata": {},
   "source": [
    "## Compute the NDVI"
   ]
  },
  {
   "cell_type": "markdown",
   "id": "2f09aece",
   "metadata": {},
   "source": [
    "Remember that:\n",
    "\n",
    "$$\n",
    "\\text{NDVI} = \\frac{Red - NIR}{Red + NIR}\n",
    "$$"
   ]
  },
  {
   "cell_type": "markdown",
   "id": "7cda55a3",
   "metadata": {},
   "source": [
    "Now, compute the NDVI for both seasons (use the previously concatenated xarrays : da_wet_a & da_dry_a)\n",
    "\n",
    "Do not forget to replace N/A values by zero"
   ]
  },
  {
   "cell_type": "code",
   "execution_count": null,
   "id": "a838db0c",
   "metadata": {},
   "outputs": [],
   "source": [
    "NDVI_wet = \"\"\"YOUR CODE HERE\"\"\"\n",
    "NDVI_wet = \"\"\"YOUR CODE HERE\"\"\"  # Clean NDVI data with fillna"
   ]
  },
  {
   "cell_type": "code",
   "execution_count": null,
   "id": "91418308",
   "metadata": {},
   "outputs": [],
   "source": [
    "NDVI_dry = \"\"\"YOUR CODE HERE\"\"\"\n",
    "NDVI_dry = \"\"\"YOUR CODE HERE\"\"\" # Clean NDVI data with fillna"
   ]
  },
  {
   "cell_type": "markdown",
   "id": "ceaaf7ab",
   "metadata": {},
   "source": [
    "Check correct computation of the NDVI by displaying it with the built-in plot() method\n",
    "\n",
    "Choose a colormap that will be most adapted\n",
    "\n",
    "See [matplotlib's documentation](https://matplotlib.org/stable/gallery/color/colormap_reference.html) for more informations"
   ]
  },
  {
   "cell_type": "code",
   "execution_count": null,
   "id": "41e85d53",
   "metadata": {},
   "outputs": [],
   "source": [
    "NDVI_wet.plot(levels=np.arange(0, 0.6, 0.01), cmap=\"Greens\")"
   ]
  },
  {
   "cell_type": "code",
   "execution_count": null,
   "id": "ab3199e6",
   "metadata": {},
   "outputs": [],
   "source": [
    "NDVI_dry.plot(levels=np.arange(0, 0.6, 0.01), cmap=\"Greens\")"
   ]
  },
  {
   "cell_type": "markdown",
   "id": "ed637786",
   "metadata": {},
   "source": [
    "Notice the variation in vegetation index depending on the season.\n",
    "\n",
    "During the dry season, we can see that the vegetation has decreased except on the river's border"
   ]
  },
  {
   "cell_type": "markdown",
   "id": "2cfb1715",
   "metadata": {},
   "source": [
    "## Evaluate the average vegetation"
   ]
  },
  {
   "cell_type": "markdown",
   "id": "55fc65e9",
   "metadata": {},
   "source": [
    "Compute the mean value of the NDVI for both seasons, compare these values. What can you conclude ?"
   ]
  },
  {
   "cell_type": "code",
   "execution_count": null,
   "id": "f20c46d4",
   "metadata": {},
   "outputs": [],
   "source": [
    "print(\"The average NDVI for the wet season is: \", \"\"\"YOUR CODE HERE\"\"\")\n",
    "print(\"The average NDVI for the dry season is: \", \"\"\"YOUR CODE HERE\"\"\")"
   ]
  },
  {
   "cell_type": "markdown",
   "id": "86bb3689",
   "metadata": {},
   "source": [
    "## Compute the NDWI\n",
    "\n",
    "Use the following formula \n",
    "\n",
    "$$\n",
    "\\text{NDWI} = \\frac{(NIR - SWIR)}{NIR + SWIR}\n",
    "$$\n",
    "\n",
    "\n",
    "This part is similar to the previous NDVI computation"
   ]
  },
  {
   "cell_type": "code",
   "execution_count": null,
   "id": "c7ac5d82",
   "metadata": {},
   "outputs": [],
   "source": [
    "NDWI_wet = \"\"\"YOUR CODE HERE\"\"\" # Use NDWI formula\n",
    "NDWI_wet = \"\"\"YOUR CODE HERE\"\"\" # Clean NDVI data with fillna"
   ]
  },
  {
   "cell_type": "markdown",
   "id": "dd8c9f41",
   "metadata": {},
   "source": [
    "Plot the computed NDWI indices for both seasons and compare the results visually"
   ]
  },
  {
   "cell_type": "code",
   "execution_count": null,
   "id": "09ba87b4",
   "metadata": {},
   "outputs": [],
   "source": [
    "NDWI_dry = \"\"\"YOUR CODE HERE\"\"\" # Use NDWI formula\n",
    "NDWI_dry = \"\"\"YOUR CODE HERE\"\"\" # Clean NDVI data with filln"
   ]
  },
  {
   "cell_type": "markdown",
   "id": "919ff2fd",
   "metadata": {},
   "source": [
    "Plot both NDWI"
   ]
  },
  {
   "cell_type": "code",
   "execution_count": null,
   "id": "a6544fd9",
   "metadata": {},
   "outputs": [],
   "source": [
    "NDWI_wet.plot(levels=np.arange(0, 25, 0.1), cmap=\"Blues\")"
   ]
  },
  {
   "cell_type": "code",
   "execution_count": null,
   "id": "0dfbe91c",
   "metadata": {},
   "outputs": [],
   "source": [
    "NDWI_dry.plot(levels=np.arange(10, 35, 1), cmap=\"Blues\")"
   ]
  },
  {
   "cell_type": "markdown",
   "id": "95905ec6",
   "metadata": {},
   "source": [
    "# Interactive plots"
   ]
  },
  {
   "cell_type": "markdown",
   "id": "b99a2fbf",
   "metadata": {},
   "source": [
    "## Export the computed NDVI to local files"
   ]
  },
  {
   "cell_type": "markdown",
   "id": "87417bdc",
   "metadata": {},
   "source": [
    "Get the width and height of the products by opening a reference image (any image of the same size will be OK, e.g. the red band)\n",
    "\n",
    "Hint : use **rasterio**\n",
    "\n",
    "Print the result to make sure the values are correct"
   ]
  },
  {
   "cell_type": "code",
   "execution_count": null,
   "id": "b53c1a98",
   "metadata": {},
   "outputs": [],
   "source": [
    "src_img = \"\"\"YOUR CODE HERE\"\"\"\n",
    "width = \"\"\"YOUR CODE HERE\"\"\"\n",
    "height = \"\"\"YOUR CODE HERE\"\"\"\n",
    "print(\"Image dimensions:\\nwidth {0}px - height {1}px\".format(width, height))"
   ]
  },
  {
   "cell_type": "markdown",
   "id": "dd44ac41",
   "metadata": {},
   "source": [
    "Now write the NDVI for wet and dry seasons"
   ]
  },
  {
   "cell_type": "code",
   "execution_count": null,
   "id": "59222cc4",
   "metadata": {},
   "outputs": [],
   "source": [
    "def write_file(src_img, data, outname):\n",
    "    ndviImage = rasterio.open(\n",
    "        outname,\n",
    "        \"w\",\n",
    "        driver=\"Gtiff\",\n",
    "        width=src_img.width,\n",
    "        height=src_img.height,\n",
    "        count=1,  # number of bands (1 for NDVI)\n",
    "        crs=src_img.crs,\n",
    "        transform=src_img.transform,\n",
    "        dtype=\"float64\",\n",
    "    )\n",
    "    ndviImage.write(data, 1)\n",
    "    ndviImage.close()  # Do not forget to close opened file !\n",
    "\n",
    "\n",
    "write_file(src_img, NDVI_wet, \"NDVI_wet.tif\")\n",
    "write_file(src_img, NDVI_dry, \"NDVI_dry.tif\")"
   ]
  },
  {
   "cell_type": "markdown",
   "id": "49c6e1ca",
   "metadata": {},
   "source": [
    "Open the written NDVI files with rasterio to make sure they were properly written"
   ]
  },
  {
   "cell_type": "code",
   "execution_count": null,
   "id": "765c312a",
   "metadata": {},
   "outputs": [],
   "source": [
    "ndvi_dry_src = \"\"\"YOUR CODE HERE\"\"\"\n",
    "ndvi_wet_src = \"\"\"YOUR CODE HERE\"\"\"\n",
    "show(ndvi_dry_src, cmap=\"Greens\", title=\"NDVI for DRY SEASON\")\n",
    "show(ndvi_wet_src, cmap=\"Greens\", title=\"NDVI for WET SEASON\")"
   ]
  },
  {
   "cell_type": "markdown",
   "id": "0df3bb60",
   "metadata": {},
   "source": [
    "# Extra work"
   ]
  },
  {
   "cell_type": "markdown",
   "id": "6518aea2",
   "metadata": {},
   "source": [
    "In this section we will demonstrate how Numba can help speed up computations\n",
    "\n",
    "To do so, we will compute several vegation indices using different formulae"
   ]
  },
  {
   "cell_type": "markdown",
   "id": "447054ff",
   "metadata": {},
   "source": [
    "\"Excess Green minus Excess Red\" (ExGR) as proposed by Neto et. al.\n",
    "\n",
    "Though less accurate than NDVI, ExGR (and similar) is useful when the NIR band is not available.\n",
    "\n",
    "The formula is given below : \n",
    "\n",
    "$$\n",
    "\\text{ExGR} = \\frac{3G-2.4R-B}{R+G+B}\n",
    "$$\n",
    "\n",
    "Where R, G, B correspond to bands Red, Green, Blue respectively"
   ]
  },
  {
   "cell_type": "markdown",
   "id": "20ccc161",
   "metadata": {},
   "source": [
    "The Enhanced Vegetation Index (EVI2) that is less sensitive than NDVI to biophysical quantities such as vegetation fraction or leaf area index and whose use is therefore weakened with increasing vegetation densities beyond a threshold (see [this article](https://www.tandfonline.com/doi/full/10.1080/17538947.2018.1495770) for example). \n",
    "\n",
    "The EVI2 is : \n",
    "\n",
    "$$\n",
    "\\text{EVI2} = 2.5 \\times \\frac{NIR - R}{NIR + (6 - 7.5/2.08)\\times R +1}\n",
    "$$\n",
    "    \n",
    "Finally, we will compute the RDVI : \n",
    "\n",
    "$$\n",
    "\\text{RDVI} = \\frac{NIR - R}{\\sqrt{(R + NIR)}}\n",
    "$$"
   ]
  },
  {
   "cell_type": "markdown",
   "id": "2330b3b1",
   "metadata": {},
   "source": [
    "## Open files"
   ]
  },
  {
   "cell_type": "markdown",
   "id": "4228aadd",
   "metadata": {},
   "source": [
    "For the sake of this demonstration, we will compute the indices with numpy instead of Xarray\n",
    "\n",
    "Open all the band files needed to perform the computations using rasterio"
   ]
  },
  {
   "cell_type": "code",
   "execution_count": null,
   "id": "7f8953a2",
   "metadata": {},
   "outputs": [],
   "source": [
    "blue_src = \"\"\"YOUR CODE HERE\"\"\"\n",
    "green_src = \"\"\"YOUR CODE HERE\"\"\"\n",
    "red_src = \"\"\"YOUR CODE HERE\"\"\"\n",
    "nir_src = \"\"\"YOUR CODE HERE\"\"\"\n",
    "\n",
    "blue = blue_src.read()\n",
    "green = \"\"\"YOUR CODE HERE\"\"\"\n",
    "red = \"\"\"YOUR CODE HERE\"\"\"\n",
    "nir = \"\"\"YOUR CODE HERE\"\"\""
   ]
  },
  {
   "cell_type": "markdown",
   "id": "1211b5d6",
   "metadata": {},
   "source": [
    "## Computations with numpy"
   ]
  },
  {
   "cell_type": "markdown",
   "id": "5ed830c4",
   "metadata": {},
   "source": [
    "First, define a method that will compute the 4 different vegetation indices using only numpy, not xarray"
   ]
  },
  {
   "cell_type": "code",
   "execution_count": null,
   "id": "03cd5c81",
   "metadata": {},
   "outputs": [],
   "source": [
    "np.seterr(divide=\"ignore\", invalid=\"ignore\")  # suppress warning\n",
    "\n",
    "def compute_VI_np(blue, green, red, nir):\n",
    "    \"\"\"\n",
    "    This method computes several vegetation indexes\n",
    "    \"\"\"\n",
    "    EVI2 = \"\"\"YOUR CODE HERE\"\"\"\n",
    "    NDVI = \"\"\"YOUR CODE HERE\"\"\"\n",
    "    RDVI = \"\"\"YOUR CODE HERE\"\"\"\n",
    "    ExGR = \"\"\"YOUR CODE HERE\"\"\"\n",
    "    return EVI2, NDVI, RDVI, ExGR"
   ]
  },
  {
   "cell_type": "markdown",
   "id": "2be42674",
   "metadata": {},
   "source": [
    "## Display results\n",
    "\n",
    "Let's display the results to check you have computed the formulas correctly"
   ]
  },
  {
   "cell_type": "code",
   "execution_count": null,
   "id": "e0e072ab",
   "metadata": {},
   "outputs": [],
   "source": [
    "EVI2, NDVI, RDVI, ExGR = \"\"\"YOUR CODE HERE\"\"\"\n",
    "from matplotlib import pyplot as plt\n",
    "\n",
    "formulas = [EVI2, NDVI, RDVI, ExGR]\n",
    "\n",
    "fig, axs = plt.subplots(nrows=2, ncols=2)\n",
    "axs[0, 0].imshow(NDVI[0])\n",
    "axs[0, 0].set_title(\"NDVI\")\n",
    "axs[0, 1].imshow(RDVI[0])\n",
    "axs[0, 1].set_title(\"RDVI\")\n",
    "axs[1, 0].imshow(EVI2[0])\n",
    "axs[1, 0].set_title(\"EVI2\")\n",
    "axs[1, 1].imshow(ExGR[0])\n",
    "axs[1, 1].set_title(\"ExGR\")\n",
    "plt.tight_layout()"
   ]
  },
  {
   "cell_type": "markdown",
   "id": "30e82af8",
   "metadata": {},
   "source": [
    "## Speed up computations with Numba"
   ]
  },
  {
   "cell_type": "markdown",
   "id": "9e54c5f8",
   "metadata": {},
   "source": [
    "Write the same method as above, but use Numba to perform Just In Time compilation"
   ]
  },
  {
   "cell_type": "code",
   "execution_count": null,
   "id": "d31f70f5",
   "metadata": {},
   "outputs": [],
   "source": [
    "from numba import jit\n",
    "\n",
    "\"\"\"YOUR CODE HERE\"\"\"\n",
    "def compute_VI_numba(blue, green, red, nir):\n",
    "    \"\"\"\n",
    "    This method computes several vegetation indexes\n",
    "    \"\"\"\n",
    "    EVI2 = \"\"\"YOUR CODE HERE\"\"\"\n",
    "    NDVI = \"\"\"YOUR CODE HERE\"\"\"\n",
    "    RDVI = \"\"\"YOUR CODE HERE\"\"\"\n",
    "    ExGR = \"\"\"YOUR CODE HERE\"\"\"\n",
    "    return EVI2, NDVI, RDVI, ExGR"
   ]
  },
  {
   "cell_type": "markdown",
   "id": "9a50d332",
   "metadata": {},
   "source": [
    "Evaluate the time needed to perform the computations with numpy only"
   ]
  },
  {
   "cell_type": "code",
   "execution_count": null,
   "id": "d3314f71",
   "metadata": {},
   "outputs": [],
   "source": [
    "%%timeit -r 10\n",
    "EVI2, NDVI, RDVI, ExGR = \"\"\"YOUR CODE HERE\"\"\""
   ]
  },
  {
   "cell_type": "markdown",
   "id": "e891c718",
   "metadata": {},
   "source": [
    "Evaluate the time needed to perform the computations with numba"
   ]
  },
  {
   "cell_type": "code",
   "execution_count": null,
   "id": "6e04f81b",
   "metadata": {},
   "outputs": [],
   "source": [
    "%%timeit -r 10\n",
    "EVI2, NDVI, RDVI, ExGR = \"\"\"YOUR CODE HERE\"\"\""
   ]
  },
  {
   "cell_type": "markdown",
   "id": "cdd6da82",
   "metadata": {},
   "source": [
    "Notice that the computation time has been divided by more than 2"
   ]
  }
 ],
 "metadata": {
  "kernelspec": {
   "display_name": "Python 3 (ipykernel)",
   "language": "python",
   "name": "python3"
  },
  "language_info": {
   "codemirror_mode": {
    "name": "ipython",
    "version": 3
   },
   "file_extension": ".py",
   "mimetype": "text/x-python",
   "name": "python",
   "nbconvert_exporter": "python",
   "pygments_lexer": "ipython3",
   "version": "3.8.10"
  },
  "toc-autonumbering": true
 },
 "nbformat": 4,
 "nbformat_minor": 5
}
