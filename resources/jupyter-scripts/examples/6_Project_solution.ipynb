{
 "cells": [
  {
   "cell_type": "markdown",
   "id": "a9a5c023-eaa8-4e8c-8953-8cd052e1b3c3",
   "metadata": {},
   "source": [
    "![intro_banner](./Images/27-5-2.3-Banner.png)"
   ]
  },
  {
   "cell_type": "markdown",
   "id": "51d3e41e-0421-49cc-8d82-13a367644ebe",
   "metadata": {},
   "source": [
    "---"
   ]
  },
  {
   "cell_type": "markdown",
   "id": "154713c8",
   "metadata": {},
   "source": [
    "# Introduction"
   ]
  },
  {
   "cell_type": "markdown",
   "id": "425f031a",
   "metadata": {},
   "source": [
    "In this exercise you will practice python programming applied to Earth Observation, within the VRE"
   ]
  },
  {
   "cell_type": "markdown",
   "id": "5f21c9f2",
   "metadata": {},
   "source": [
    "This exercise is inspired by a research article by M. Urban et. al. that you can download from [this link](https://www.mdpi.com/2072-4292/10/9/1482)\n",
    "\n",
    "During the southern summer season of 2015 and 2016, South Africa experienced one of the most severe meteorological droughts since the start of climate recording, due to an exceptionally strong El Niño event. To investigate spatiotemporal dynamics of surface moisture and vegetation structure, data from ESA’s Copernicus Sentinel-1/-2 and NASA’s Landsat-8 for the period between March 2015 and November 2017 were utilized\n",
    "\n",
    "Several techniques and indices were computed to assess the severity of the drought and their temporal variations.\n",
    "\n",
    "Here, we will limit the study to the computation of the vegetation index to compare vegetation status between dry and wet seasons, both visually and numerically.\n",
    "\n",
    "The NDWI will also be used to visualise variation in water level."
   ]
  },
  {
   "cell_type": "markdown",
   "id": "f567a1c8",
   "metadata": {},
   "source": [
    "# Import all the modules needed for the exercise"
   ]
  },
  {
   "cell_type": "code",
   "execution_count": null,
   "id": "466f5df0",
   "metadata": {},
   "outputs": [],
   "source": [
    "import os\n",
    "import warnings\n",
    "\n",
    "import xarray\n",
    "import rioxarray\n",
    "import rasterio\n",
    "from rasterio.plot import show\n",
    "import numpy as np\n",
    "import folium\n",
    "\n",
    "from eodag import EODataAccessGateway\n",
    "\n",
    "warnings.filterwarnings(\"ignore\")"
   ]
  },
  {
   "cell_type": "markdown",
   "id": "04ea28e8",
   "metadata": {},
   "source": [
    "# Fetch the products with EODAG"
   ]
  },
  {
   "cell_type": "markdown",
   "id": "0382d104",
   "metadata": {},
   "source": [
    "Execute the cell below to get the products"
   ]
  },
  {
   "cell_type": "code",
   "execution_count": null,
   "id": "45202dc9",
   "metadata": {
    "tags": [
     "Injected",
     "by",
     "EODAG",
     "plugin"
    ]
   },
   "outputs": [],
   "source": [
    "dag = EODataAccessGateway()\n",
    "product_type = \"S2_MSI_L1C\"\n",
    "footprint = {\"lonmin\": 31, \"latmin\": -26, \"lonmax\": 32, \"latmax\": -25}\n",
    "cloud_cover = 4\n",
    "start, end = \"2016-08-31\", \"2017-02-01\"\n",
    "search_results, estimated_total_nbr_of_results = dag.search(\n",
    "    productType=product_type,\n",
    "    geom=footprint,\n",
    "    start=start,\n",
    "    end=end,\n",
    "    cloudCover=cloud_cover,\n",
    ")"
   ]
  },
  {
   "cell_type": "markdown",
   "id": "9401fbbd",
   "metadata": {},
   "source": [
    "To make sure we work with the same products, the name of the two products to download is given below"
   ]
  },
  {
   "cell_type": "code",
   "execution_count": null,
   "id": "c0972727",
   "metadata": {},
   "outputs": [],
   "source": [
    "# Search results by name\n",
    "title1 = \"S2A_MSIL1C_20170119T074231_N0204_R092_T36JUT_20170119T075734\"\n",
    "title2 = \"S2A_MSIL1C_20160901T073612_N0204_R092_T36JUT_20160901T080536\""
   ]
  },
  {
   "cell_type": "markdown",
   "id": "354bea49",
   "metadata": {},
   "source": [
    "Find the indices of the products corresponding to the titles above\n",
    "\n",
    "Hint : use Python's built-in function **enumerate**"
   ]
  },
  {
   "cell_type": "code",
   "execution_count": null,
   "id": "8060e2aa",
   "metadata": {},
   "outputs": [],
   "source": [
    "for i, p in enumerate(search_results):\n",
    "    if p.properties[\"title\"] == title1 or p.properties[\"title\"] == title2:\n",
    "        print((p.properties[\"cloudCover\"], p.properties[\"id\"], i))"
   ]
  },
  {
   "cell_type": "markdown",
   "id": "243a9ac6",
   "metadata": {},
   "source": [
    "EODAG search results properties are stored in the form of a dictionnary that you can access via **.properties** \n",
    "\n",
    "These properties inlude the name of the instrument, the platform, dates, title, description of the bands, etc.\n",
    "\n",
    "Hint : search_result is a list of EODAG products"
   ]
  },
  {
   "cell_type": "code",
   "execution_count": null,
   "id": "96b77315",
   "metadata": {},
   "outputs": [],
   "source": [
    "# Print list of properties\n",
    "search_results[0].properties"
   ]
  },
  {
   "cell_type": "markdown",
   "id": "24cb5aa3",
   "metadata": {},
   "source": [
    "_**Exercise :**_\n",
    "\n",
    "Display list of products having a cloud cover lower than 20%\n",
    "\n",
    "Remember that you can access the list of properties with the .properties method"
   ]
  },
  {
   "cell_type": "code",
   "execution_count": null,
   "id": "9e531068",
   "metadata": {},
   "outputs": [],
   "source": [
    "for i, p in enumerate(search_results):\n",
    "    if p.properties[\"cloudCover\"] < 20:\n",
    "        print(\n",
    "            \"Product index: {0} - Cloud cover {1}%, \".format(\n",
    "                i, p.properties[\"cloudCover\"]\n",
    "            )\n",
    "        )"
   ]
  },
  {
   "cell_type": "markdown",
   "id": "0b2c5fd2",
   "metadata": {},
   "source": [
    "Now we know exactly which product to download, we can launch the download process\n",
    "\n",
    "If you did the search properly you have found that the indices are 5 and 17\n",
    "\n",
    "To simplify the work and limit bandwith usage, the products have been downloaded and stored on the local drive\n",
    "\n",
    "The products have also already been croped to the correct area with QGIS, as demonstrated in a previous tutorial\n",
    "\n",
    "The cell below is fully commented, do not execute it. It is here as a reference"
   ]
  },
  {
   "cell_type": "markdown",
   "id": "b3d21783",
   "metadata": {},
   "source": [
    "Once the products are downloaded we can start our work"
   ]
  },
  {
   "cell_type": "markdown",
   "id": "8f293dc4",
   "metadata": {},
   "source": [
    "# Quick display"
   ]
  },
  {
   "cell_type": "markdown",
   "id": "25f0166c",
   "metadata": {},
   "source": [
    "We will start by displaying the product on an interactive map to locate the area that we will use in the exercise. To display the product properly, we will need to find the central coordinates of the product as well as those of its boundaries (top left corner & bottom right corner)"
   ]
  },
  {
   "cell_type": "markdown",
   "id": "db872e64",
   "metadata": {},
   "source": [
    "Open the True-Colour Image with rasterio"
   ]
  },
  {
   "cell_type": "code",
   "execution_count": null,
   "id": "b1bdf822",
   "metadata": {},
   "outputs": [],
   "source": [
    "src_tci_img = rasterio.open(\n",
    "    \"./Products/South_Africa/S2A_MSIL1C_20160901T073612_dry_season/TCI_epsg4326.tif\"\n",
    ")"
   ]
  },
  {
   "cell_type": "markdown",
   "id": "fc707dff",
   "metadata": {},
   "source": [
    "Now, get the bounds of the tiff files"
   ]
  },
  {
   "cell_type": "code",
   "execution_count": null,
   "id": "9a324681",
   "metadata": {},
   "outputs": [],
   "source": [
    "x1_tci, y1_tci, x2_tci, y2_tci = src_tci_img.bounds  # Get coordinates of image bounds\n",
    "print(\n",
    "    \"Bounds of the layer are:\\n{0} {1}\\n{2} {3}\".format(x1_tci, y1_tci, x2_tci, y2_tci)\n",
    ")"
   ]
  },
  {
   "cell_type": "markdown",
   "id": "352ced66",
   "metadata": {},
   "source": [
    "To center the display, you will also need the longitude and latitude of the product : use rasterio to get these values"
   ]
  },
  {
   "cell_type": "code",
   "execution_count": null,
   "id": "883b9cf7",
   "metadata": {},
   "outputs": [],
   "source": [
    "lon, lat = src_tci_img.lnglat()  # Get longitude and latitude\n",
    "m = folium.Map(location=[lat, lon], zoom_start=12)\n",
    "\n",
    "folium.raster_layers.ImageOverlay(\n",
    "    image=src_tci_img.read()[0],\n",
    "    bounds=[[y1_tci, x1_tci], [y2_tci, x2_tci]],\n",
    "    opacity=0.7,\n",
    ").add_to(m)\n",
    "\n",
    "m"
   ]
  },
  {
   "cell_type": "markdown",
   "id": "a3a14f5c",
   "metadata": {},
   "source": [
    "The work area is located East of South Africa"
   ]
  },
  {
   "cell_type": "markdown",
   "id": "4503d3a2",
   "metadata": {},
   "source": [
    "# READ DATA"
   ]
  },
  {
   "cell_type": "markdown",
   "id": "1c4550a9",
   "metadata": {},
   "source": [
    "The first step consists in opening all the required data.\n",
    "\n",
    "The data is stored on the drive, one file for each band, that we will open one by one"
   ]
  },
  {
   "cell_type": "markdown",
   "id": "25546bff",
   "metadata": {},
   "source": [
    "## Open files"
   ]
  },
  {
   "cell_type": "markdown",
   "id": "4fb37bc5",
   "metadata": {},
   "source": [
    "Using xarray, open the following bands for both WET and DRY regions : \n",
    "- B03 (green)\n",
    "- B04 (red)\n",
    "- NIR (B08)\n",
    "- NIR_A (B08A)\n",
    "- SWIR (B11)\n",
    "\n",
    "Store the data into two separate Xarrays (one for each season)."
   ]
  },
  {
   "cell_type": "code",
   "execution_count": null,
   "id": "84e078d6",
   "metadata": {},
   "outputs": [],
   "source": [
    "# January 2017 - Wet season\n",
    "base_path = \"./Products/South_Africa/S2A_MSIL1C_20170119T074231_wet_season/\"\n",
    "# blue_wet = xarray.open_rasterio(os.path.join(base_path, \"B02.tif\"))\n",
    "green_wet = rioxarray.open_rasterio(\n",
    "    os.path.join(base_path, \"B03_epsg4326.tif\")\n",
    ")  # 554x698\n",
    "red_wet = rioxarray.open_rasterio(\n",
    "    os.path.join(base_path, \"B04_epsg4326.tif\")\n",
    ")  # 554x698\n",
    "nir_wet = rioxarray.open_rasterio(\n",
    "    os.path.join(base_path, \"B08_epsg4326.tif\")\n",
    ")  # 554x698\n",
    "nir_A_wet = rioxarray.open_rasterio(\n",
    "    os.path.join(base_path, \"B08A_epsg4326.tif\")\n",
    ")  # 277x349\n",
    "swir_wet = rioxarray.open_rasterio(\n",
    "    os.path.join(base_path, \"B11_epsg4326.tif\")\n",
    ")  # 277x349\n",
    "\n",
    "# Septembre 2016 - Dry saison\n",
    "base_path_dry = \"./Products/South_Africa/S2A_MSIL1C_20160901T073612_dry_season/\"\n",
    "# blue_dry = xarray.open_rasterio(os.path.join(base_path, \"B02.tif\"))\n",
    "green_dry = rioxarray.open_rasterio(os.path.join(base_path_dry, \"B03_epsg4326.tif\"))\n",
    "red_dry = rioxarray.open_rasterio(os.path.join(base_path_dry, \"B04_epsg4326.tif\"))\n",
    "nir_dry = rioxarray.open_rasterio(os.path.join(base_path_dry, \"B08_epsg4326.tif\"))\n",
    "nir_A_dry = rioxarray.open_rasterio(\n",
    "    os.path.join(base_path_dry, \"B08A_epsg4326.tif\")\n",
    ")  # 277x349\n",
    "swir_dry = rioxarray.open_rasterio(\n",
    "    os.path.join(base_path_dry, \"B11_epsg4326.tif\")\n",
    ")  # 277x349"
   ]
  },
  {
   "cell_type": "markdown",
   "id": "ac74493f",
   "metadata": {},
   "source": [
    "Print the products sizes to make sure they are correctly opened"
   ]
  },
  {
   "cell_type": "code",
   "execution_count": null,
   "id": "78477d92",
   "metadata": {},
   "outputs": [],
   "source": [
    "print(\"Red Band dimensions:\", red_wet.shape)\n",
    "print(\"NIR Band dimensions:\", nir_wet.shape)\n",
    "print(\"Green Band dimensions:\", green_wet.shape)\n",
    "print(\"NIR-A Band dimensions:\", nir_A_wet.shape)\n",
    "print(\"SWIR Band dimensions:\", swir_wet.shape)\n",
    "print(\"Red Band dimensions:\", red_dry.shape)\n",
    "print(\"NIR Band dimensions:\", nir_dry.shape)\n",
    "print(\"Green Band dimensions:\", green_dry.shape)\n",
    "print(\"NIR-A Band dimensions:\", nir_A_dry.shape)\n",
    "print(\"SWIR Band dimensions:\", swir_dry.shape)"
   ]
  },
  {
   "cell_type": "markdown",
   "id": "2cad1dc5",
   "metadata": {},
   "source": [
    "## Create Data Arrays"
   ]
  },
  {
   "cell_type": "markdown",
   "id": "f8062909",
   "metadata": {},
   "source": [
    "In this section we will create Data Arrays containing all the products opened above to perform computations\n",
    "\n",
    "Display one Data Array of your choice to check dimensions, coordinates, band name, etc."
   ]
  },
  {
   "cell_type": "code",
   "execution_count": null,
   "id": "6a59c2cf",
   "metadata": {},
   "outputs": [],
   "source": [
    "red_dry"
   ]
  },
  {
   "cell_type": "markdown",
   "id": "e6a21395",
   "metadata": {},
   "source": [
    "Note that the coordinate **'Band'** has no particular name, so we will need to name each band for all Data Arrays\n",
    "\n",
    "For each band xarray, rename the band name to an understandable one:\n",
    "    \n",
    "e.g. red['band'] = ['red']"
   ]
  },
  {
   "cell_type": "code",
   "execution_count": null,
   "id": "c28aed86",
   "metadata": {},
   "outputs": [],
   "source": [
    "# Affect correct name to bands in the data array\n",
    "red_dry[\"band\"] = [\"red\"]\n",
    "green_dry[\"band\"] = [\"green\"]\n",
    "# blue_dry[\"band\"] = [\"blue\"]\n",
    "nir_dry[\"band\"] = [\"nir\"]\n",
    "nir_A_dry[\"band\"] = [\"nir_a\"]\n",
    "swir_dry[\"band\"] = [\"swir\"]\n",
    "red_wet[\"band\"] = [\"red\"]\n",
    "green_wet[\"band\"] = [\"green\"]\n",
    "# blue_wet[\"band\"] = [\"blue\"]\n",
    "nir_wet[\"band\"] = [\"nir\"]\n",
    "nir_A_wet[\"band\"] = [\"nir_a\"]\n",
    "swir_wet[\"band\"] = [\"swir\"]"
   ]
  },
  {
   "cell_type": "markdown",
   "id": "7129545d",
   "metadata": {},
   "source": [
    "Display the same DataArray as above to check its band has been correctly renamed"
   ]
  },
  {
   "cell_type": "code",
   "execution_count": null,
   "id": "c354345c",
   "metadata": {},
   "outputs": [],
   "source": [
    "red_dry.coords"
   ]
  },
  {
   "cell_type": "markdown",
   "id": "1cce7246",
   "metadata": {},
   "source": [
    "In the following steps we will compute both NDVI and NDWI.\n",
    "\n",
    "Note that NDWI uses band B08A and B11 (or B12) while NDVI bands B03 and B08. These bands do not have the same shape : 277x349 vs 554x698, so we can not merge these bands into the same DataArray easily.\n",
    "\n",
    "This difference in shape is due to the resolution of these bands"
   ]
  },
  {
   "cell_type": "markdown",
   "id": "6edfe121",
   "metadata": {},
   "source": [
    "Since not all bands yield the same resolution, we will separate the data and therefore concatenate the data into Xarrays : \n",
    "- One for Red, NIR, Green bands\n",
    "- One for NIR-A & SWIR bands"
   ]
  },
  {
   "cell_type": "markdown",
   "id": "e3c754c6",
   "metadata": {},
   "source": [
    "Now, create the 4 data arrays (two per season) by concatenating the required bands"
   ]
  },
  {
   "cell_type": "code",
   "execution_count": null,
   "id": "9e0f95fa",
   "metadata": {},
   "outputs": [],
   "source": [
    "da_wet_a = xarray.concat([red_wet, green_wet, nir_wet], dim=\"band\")  # For NDVI\n",
    "da_wet_b = xarray.concat([nir_A_wet, swir_wet], dim=\"band\")  # For NDWI\n",
    "da_dry_a = xarray.concat([red_dry, green_dry, nir_dry], dim=\"band\")  # For NDVI\n",
    "da_dry_b = xarray.concat([nir_A_dry, swir_dry], dim=\"band\")  # For NDWI"
   ]
  },
  {
   "cell_type": "markdown",
   "id": "60b596e7",
   "metadata": {},
   "source": [
    "Clean both data arrays by replacing N/A values by zero"
   ]
  },
  {
   "cell_type": "code",
   "execution_count": null,
   "id": "89ace1a0",
   "metadata": {},
   "outputs": [],
   "source": [
    "da_wet_a = da_wet_a.fillna(0)\n",
    "da_wet_b = da_wet_b.fillna(0)\n",
    "da_dry_a = da_dry_a.fillna(0)\n",
    "da_dry_b = da_dry_b.fillna(0)"
   ]
  },
  {
   "cell_type": "markdown",
   "id": "5fa5dd8e",
   "metadata": {},
   "source": [
    "# Computations"
   ]
  },
  {
   "cell_type": "markdown",
   "id": "b360d5f7",
   "metadata": {},
   "source": [
    "Let's compute NDVI and NDWI"
   ]
  },
  {
   "cell_type": "markdown",
   "id": "2aa0257a",
   "metadata": {},
   "source": [
    "## Compute the NDVI"
   ]
  },
  {
   "cell_type": "markdown",
   "id": "773cf198",
   "metadata": {},
   "source": [
    "Remember that:\n",
    "\n",
    "$$\n",
    "\\text{NDVI} = \\frac{Red - NIR}{Red + NIR}\n",
    "$$"
   ]
  },
  {
   "cell_type": "markdown",
   "id": "8a2a16d4",
   "metadata": {},
   "source": [
    "Do not forget to replace N/A values by zero"
   ]
  },
  {
   "cell_type": "code",
   "execution_count": null,
   "id": "16d1aee8",
   "metadata": {},
   "outputs": [],
   "source": [
    "NDVI_wet = (da_wet_a.sel(band=\"nir\") - da_wet_a.sel(band=\"red\")) / (\n",
    "    da_wet_a.sel(band=\"nir\") + da_wet_a.sel(band=\"red\")\n",
    ")\n",
    "NDVI_wet = NDVI_wet.fillna(0)  # Clean NDVI data"
   ]
  },
  {
   "cell_type": "code",
   "execution_count": null,
   "id": "337150b0",
   "metadata": {},
   "outputs": [],
   "source": [
    "NDVI_dry = (da_dry_a.sel(band=\"nir\") - da_dry_a.sel(band=\"red\")) / (\n",
    "    da_dry_a.sel(band=\"nir\") + da_dry_a.sel(band=\"red\")\n",
    ")\n",
    "NDVI_dry = NDVI_dry.fillna(0)"
   ]
  },
  {
   "cell_type": "markdown",
   "id": "edb0f27c",
   "metadata": {},
   "source": [
    "Check correct computation of the NDVI by displaying it with the built-in plot() method\n",
    "\n",
    "Choose a colormap that will be most adapted\n",
    "\n",
    "See [matplotlib's documentation](https://matplotlib.org/stable/gallery/color/colormap_reference.html) for more informations"
   ]
  },
  {
   "cell_type": "code",
   "execution_count": null,
   "id": "11521746",
   "metadata": {},
   "outputs": [],
   "source": [
    "NDVI_wet.plot(levels=np.arange(0, 0.6, 0.01), cmap=\"Greens\")"
   ]
  },
  {
   "cell_type": "code",
   "execution_count": null,
   "id": "38c75d67",
   "metadata": {},
   "outputs": [],
   "source": [
    "NDVI_dry.plot(levels=np.arange(0, 0.6, 0.01), cmap=\"Greens\")"
   ]
  },
  {
   "cell_type": "markdown",
   "id": "c32323fe",
   "metadata": {},
   "source": [
    "Notice the variation in vegetation index depending on the season.\n",
    "\n",
    "During the dry season, we can see that the vegetation has decreased except on the river's border"
   ]
  },
  {
   "cell_type": "markdown",
   "id": "dc7633f4",
   "metadata": {},
   "source": [
    "## Evaluate the average vegetation"
   ]
  },
  {
   "cell_type": "markdown",
   "id": "4a999e66",
   "metadata": {},
   "source": [
    "Compute the mean value of the NDVI for both seasons, compare these values. What can you conclude ?"
   ]
  },
  {
   "cell_type": "code",
   "execution_count": null,
   "id": "80b03438",
   "metadata": {},
   "outputs": [],
   "source": [
    "print(\"The average NDVI for the wet season is: \", NDVI_wet.mean())\n",
    "print(\"The average NDVI for the dry season is: \", NDVI_dry.mean())"
   ]
  },
  {
   "cell_type": "markdown",
   "id": "ba26cbb6",
   "metadata": {},
   "source": [
    "## Compute the NDWI\n",
    "\n",
    "Use the following formula \n",
    "\n",
    "$$\n",
    "\\text{NDWI} = \\frac{(NIR - SWIR)}{NIR + SWIR}\n",
    "$$\n",
    "\n"
   ]
  },
  {
   "cell_type": "code",
   "execution_count": null,
   "id": "68aa131e",
   "metadata": {},
   "outputs": [],
   "source": [
    "NDWI_wet = (da_wet_b.sel(band=\"nir_a\") - da_wet_b.sel(band=\"swir\")) / (\n",
    "    da_wet_b.sel(band=\"nir_a\") + da_wet_b.sel(band=\"swir\")\n",
    ")\n",
    "NDWI_wet = NDWI_wet.fillna(0)"
   ]
  },
  {
   "cell_type": "markdown",
   "id": "5643acef",
   "metadata": {},
   "source": [
    "Plot the computed NDWI indices for both seasons and compare the results visually"
   ]
  },
  {
   "cell_type": "code",
   "execution_count": null,
   "id": "2a718211",
   "metadata": {},
   "outputs": [],
   "source": [
    "NDWI_dry = (da_dry_b.sel(band=\"nir_a\") - da_dry_b.sel(band=\"swir\")) / (\n",
    "    da_dry_b.sel(band=\"nir_a\") + da_dry_b.sel(band=\"swir\")\n",
    ")\n",
    "NDWI_dry = NDWI_dry.fillna(0)"
   ]
  },
  {
   "cell_type": "code",
   "execution_count": null,
   "id": "62d84612",
   "metadata": {},
   "outputs": [],
   "source": [
    "NDWI_wet.plot(levels=np.arange(0, 25, 0.1), cmap=\"Blues\")"
   ]
  },
  {
   "cell_type": "code",
   "execution_count": null,
   "id": "47cb6a4c",
   "metadata": {},
   "outputs": [],
   "source": [
    "NDWI_dry.plot(levels=np.arange(10, 35, 1), cmap=\"Blues\")"
   ]
  },
  {
   "cell_type": "markdown",
   "id": "32a00d25",
   "metadata": {},
   "source": [
    "# Interactive plots"
   ]
  },
  {
   "cell_type": "markdown",
   "id": "759ca968",
   "metadata": {},
   "source": [
    "## Export the computed NDVI to local files"
   ]
  },
  {
   "cell_type": "markdown",
   "id": "9a8df789",
   "metadata": {},
   "source": [
    "Get the width and height of the products by opening a reference image (e.g. the red band)\n",
    "\n",
    "Hint : use **rasterio**\n",
    "\n",
    "Print the result to make sure the values are correct"
   ]
  },
  {
   "cell_type": "code",
   "execution_count": null,
   "id": "7053e14f",
   "metadata": {},
   "outputs": [],
   "source": [
    "src_img = rasterio.open(\n",
    "    \"./Products/South_Africa/S2A_MSIL1C_20160901T073612_dry_season/B03_epsg4326.tif\"\n",
    ")\n",
    "width = src_img.width\n",
    "height = src_img.height\n",
    "print(\"Image dimensions:\\nwidth {0}px - height {1}px\".format(width, height))"
   ]
  },
  {
   "cell_type": "markdown",
   "id": "8e323a44",
   "metadata": {},
   "source": [
    "Now write the NDVI for wet and dry seasons"
   ]
  },
  {
   "cell_type": "code",
   "execution_count": null,
   "id": "68ebc9d9",
   "metadata": {},
   "outputs": [],
   "source": [
    "def write_file(src_img, data, outname):\n",
    "    ndviImage = rasterio.open(\n",
    "        outname,\n",
    "        \"w\",\n",
    "        driver=\"Gtiff\",\n",
    "        width=src_img.width,\n",
    "        height=src_img.height,\n",
    "        count=1,  # number of bands (1 for NDVI)\n",
    "        crs=src_img.crs,\n",
    "        transform=src_img.transform,\n",
    "        dtype=\"float64\",\n",
    "    )\n",
    "    ndviImage.write(data, 1)\n",
    "    ndviImage.close()  # Do not forget to close opened file !\n",
    "\n",
    "\n",
    "write_file(src_img, NDVI_wet, \"NDVI_wet.tif\")\n",
    "write_file(src_img, NDVI_dry, \"NDVI_dry.tif\")"
   ]
  },
  {
   "cell_type": "markdown",
   "id": "3aa5713f",
   "metadata": {},
   "source": [
    "Open the written NDVI files to make sure they were properly written"
   ]
  },
  {
   "cell_type": "code",
   "execution_count": null,
   "id": "41baff95",
   "metadata": {},
   "outputs": [],
   "source": [
    "ndvi_dry_src = rasterio.open(\"NDVI_dry.tif\")\n",
    "ndvi_wet_src = rasterio.open(\"NDVI_wet.tif\")\n",
    "show(ndvi_dry_src, cmap=\"Greens\", title=\"NDVI for DRY SEASON\")\n",
    "show(ndvi_wet_src, cmap=\"Greens\", title=\"NDVI for WET SEASON\")"
   ]
  },
  {
   "cell_type": "markdown",
   "id": "28694836",
   "metadata": {},
   "source": [
    "# Extra work"
   ]
  },
  {
   "cell_type": "markdown",
   "id": "1f53ad49",
   "metadata": {},
   "source": [
    "In this section we will demonstrate how Numba can help speed up computations\n",
    "\n",
    "To do so, we will compute several vegation indices using different formulae"
   ]
  },
  {
   "cell_type": "markdown",
   "id": "f7a41014",
   "metadata": {},
   "source": [
    "\"Excess Green minus Excess Red\" (ExGR) as proposed by Neto et. al.\n",
    "\n",
    "Though less accurate than NDVI, ExGR (and similar) is useful when the NIR band is not available.\n",
    "\n",
    "The formula is given below : \n",
    "\n",
    "$$\n",
    "\\text{ExGR} = \\frac{3G-2.4R-B}{R+G+B}\n",
    "$$\n",
    "\n",
    "Where R, G, B correspond to bands Red, Green, Blue respectively"
   ]
  },
  {
   "cell_type": "markdown",
   "id": "c76c664c",
   "metadata": {},
   "source": [
    "The Enhanced Vegetation Index (EVI2) that is less sensitive than NDVI to biophysical quantities such as vegetation fraction or leaf area index and whose use is therefore weakened with increasing vegetation densities beyond a threshold (see [this article](https://www.tandfonline.com/doi/full/10.1080/17538947.2018.1495770) for example). \n",
    "\n",
    "The EVI2 is : \n",
    "\n",
    "$$\n",
    "\\text{EVI2} = 2.5 \\times \\frac{NIR - R}{NIR + (6 - 7.5/2.08)\\times R +1}\n",
    "$$\n",
    "    \n",
    "Finally, we will compute the RDVI : \n",
    "\n",
    "$$\n",
    "\\text{RDVI} = \\frac{NIR - R}{\\sqrt{(R + NIR)}}\n",
    "$$"
   ]
  },
  {
   "cell_type": "markdown",
   "id": "61acfa4a",
   "metadata": {},
   "source": [
    "## Open files"
   ]
  },
  {
   "cell_type": "markdown",
   "id": "66101e8e",
   "metadata": {},
   "source": [
    "For the sake of this demonstration, we will compute the indices with numpy instead of Xarray\n",
    "\n",
    "Open all the band files needed to perform the computations using rasterio"
   ]
  },
  {
   "cell_type": "code",
   "execution_count": null,
   "id": "6b88f998",
   "metadata": {},
   "outputs": [],
   "source": [
    "blue_src = rasterio.open(os.path.join(base_path, \"B02_epsg4326.tif\"))  # 554x698\n",
    "green_src = rasterio.open(os.path.join(base_path, \"B03_epsg4326.tif\"))  # 554x698\n",
    "red_src = rasterio.open(os.path.join(base_path, \"B04_epsg4326.tif\"))  # 554x698\n",
    "nir_src = rasterio.open(os.path.join(base_path, \"B08_epsg4326.tif\"))  # 554x698\n",
    "\n",
    "blue = blue_src.read()\n",
    "green = green_src.read()\n",
    "red = red_src.read()\n",
    "nir = nir_src.read()"
   ]
  },
  {
   "cell_type": "markdown",
   "id": "3a74d10b",
   "metadata": {},
   "source": [
    "## Computations"
   ]
  },
  {
   "cell_type": "markdown",
   "id": "50c87fd6",
   "metadata": {},
   "source": [
    "First, define a method that will compute the 4 different vegetation indices"
   ]
  },
  {
   "cell_type": "code",
   "execution_count": null,
   "id": "56636975",
   "metadata": {},
   "outputs": [],
   "source": [
    "np.seterr(divide=\"ignore\", invalid=\"ignore\")  # suppress warning\n",
    "\n",
    "\n",
    "def compute_VI_np(blue, green, red, nir):\n",
    "    \"\"\"\n",
    "    This method computes several vegetation indexes\n",
    "    \"\"\"\n",
    "    EVI2 = 2.5 * (nir - red) / ((nir + (6 - 7.5 / 2.08) * red) + 1)\n",
    "    NDVI = (nir - red) / (nir + red)\n",
    "    RDVI = (nir - red) / np.sqrt(red + nir)\n",
    "    ExGR = (3 * green - 2.4 * red - blue) / (red + green + blue)\n",
    "    return EVI2, NDVI, RDVI, ExGR"
   ]
  },
  {
   "cell_type": "markdown",
   "id": "86e6628f",
   "metadata": {},
   "source": [
    "Write the same method, but use Numba to perform Just In Time compilation"
   ]
  },
  {
   "cell_type": "code",
   "execution_count": null,
   "id": "239ce690",
   "metadata": {},
   "outputs": [],
   "source": [
    "from numba import jit\n",
    "\n",
    "\n",
    "@jit(nopython=True, parallel=True)\n",
    "def compute_VI_numba(blue, green, red, nir):\n",
    "    \"\"\"\n",
    "    This method computes several vegetation indexes\n",
    "    \"\"\"\n",
    "    EVI2 = 2.5 * (nir - red) / ((nir + (6 - 7.5 / 2.08) * red) + 1)\n",
    "    NDVI = (nir - red) / (nir + red)\n",
    "    RDVI = (nir - red) / np.sqrt(red + nir)\n",
    "    ExGR = (3 * green - 2.4 * red - blue) / (red + green + blue)\n",
    "    return EVI2, NDVI, RDVI, ExGR"
   ]
  },
  {
   "cell_type": "markdown",
   "id": "e57a8f7e",
   "metadata": {},
   "source": [
    "Evaluate the time needed to perform the computations with numpy only"
   ]
  },
  {
   "cell_type": "code",
   "execution_count": null,
   "id": "472a1995",
   "metadata": {},
   "outputs": [],
   "source": [
    "%%timeit -r 10\n",
    "EVI2, NDVI, RDVI, ExGR = compute_VI_np(blue, green, red, nir)"
   ]
  },
  {
   "cell_type": "code",
   "execution_count": null,
   "id": "2520c32f",
   "metadata": {},
   "outputs": [],
   "source": [
    "%%timeit -r 10\n",
    "EVI2, NDVI, RDVI, ExGR = compute_VI_numba(blue, green, red, nir)"
   ]
  },
  {
   "cell_type": "markdown",
   "id": "c01782e5",
   "metadata": {},
   "source": [
    "Notice that the computation time has been divided by more than 2"
   ]
  },
  {
   "cell_type": "markdown",
   "id": "a8750107",
   "metadata": {},
   "source": [
    "## Display results"
   ]
  },
  {
   "cell_type": "code",
   "execution_count": null,
   "id": "0741f602",
   "metadata": {},
   "outputs": [],
   "source": [
    "EVI2, NDVI, RDVI, ExGR = compute_VI_np(blue, green, red, nir)\n",
    "from matplotlib import pyplot as plt\n",
    "\n",
    "formulas = [EVI2, NDVI, RDVI, ExGR]\n",
    "\n",
    "fig, axs = plt.subplots(nrows=2, ncols=2)\n",
    "axs[0, 0].imshow(NDVI[0])\n",
    "axs[0, 0].set_title(\"NDVI\")\n",
    "axs[0, 1].imshow(RDVI[0])\n",
    "axs[0, 1].set_title(\"RDVI\")\n",
    "axs[1, 0].imshow(EVI2[0])\n",
    "axs[1, 0].set_title(\"EVI2\")\n",
    "axs[1, 1].imshow(ExGR[0])\n",
    "axs[1, 1].set_title(\"ExGR\")\n",
    "plt.tight_layout()"
   ]
  }
 ],
 "metadata": {
  "kernelspec": {
   "display_name": "Python 3 (ipykernel)",
   "language": "python",
   "name": "python3"
  },
  "language_info": {
   "codemirror_mode": {
    "name": "ipython",
    "version": 3
   },
   "file_extension": ".py",
   "mimetype": "text/x-python",
   "name": "python",
   "nbconvert_exporter": "python",
   "pygments_lexer": "ipython3",
   "version": "3.8.10"
  },
  "toc-autonumbering": true
 },
 "nbformat": 4,
 "nbformat_minor": 5
}
